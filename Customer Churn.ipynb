{
 "cells": [
  {
   "cell_type": "markdown",
   "id": "unlike-heart",
   "metadata": {},
   "source": [
    "# Customer Churn Model\n",
    "## INSAID Internship\n",
    "### Rohan Kumar"
   ]
  },
  {
   "cell_type": "code",
   "execution_count": 1,
   "id": "sealed-functionality",
   "metadata": {},
   "outputs": [],
   "source": [
    "#Standard libraries for data analysis:\n",
    "import numpy as np\n",
    "import pandas as pd\n",
    "\n",
    "# scikit-learn modules for data preprocessing:\n",
    "from sklearn.preprocessing import LabelEncoder\n",
    "from sklearn.preprocessing import StandardScaler\n",
    "\n",
    "#scikit-learn modules for Model Selection:\n",
    "from sklearn.neighbors import KNeighborsClassifier\n",
    "from sklearn.discriminant_analysis import LinearDiscriminantAnalysis\n",
    "from xgboost import XGBClassifier\n",
    "from sklearn.linear_model import LogisticRegression\n",
    "from sklearn.svm import SVC\n",
    "from sklearn.neighbors import KNeighborsClassifier\n",
    "from sklearn.naive_bayes import GaussianNB\n",
    "from sklearn.tree import DecisionTreeClassifier\n",
    "from sklearn.ensemble import RandomForestClassifier\n",
    "\n",
    "#sklearn modules for Model Evaluation & Improvement:\n",
    "from sklearn.metrics import confusion_matrix, accuracy_score \n",
    "from sklearn.metrics import f1_score, precision_score, recall_score, plot_roc_curve\n",
    "from statsmodels.stats.outliers_influence import variance_inflation_factor\n",
    "from sklearn.model_selection import cross_val_score\n",
    "from sklearn.model_selection import GridSearchCV\n",
    "from sklearn.model_selection import KFold\n",
    "from sklearn.metrics import classification_report\n",
    "\n",
    "#Standard libraries for data visualization:\n",
    "import seaborn as sns\n",
    "import matplotlib.pyplot as plt\n",
    "%matplotlib inline"
   ]
  },
  {
   "cell_type": "code",
   "execution_count": 2,
   "id": "detailed-battlefield",
   "metadata": {},
   "outputs": [],
   "source": [
    "data = pd.read_excel('Churn.xlsx')"
   ]
  },
  {
   "cell_type": "code",
   "execution_count": 3,
   "id": "documented-score",
   "metadata": {},
   "outputs": [
    {
     "data": {
      "text/html": [
       "<div>\n",
       "<style scoped>\n",
       "    .dataframe tbody tr th:only-of-type {\n",
       "        vertical-align: middle;\n",
       "    }\n",
       "\n",
       "    .dataframe tbody tr th {\n",
       "        vertical-align: top;\n",
       "    }\n",
       "\n",
       "    .dataframe thead th {\n",
       "        text-align: right;\n",
       "    }\n",
       "</style>\n",
       "<table border=\"1\" class=\"dataframe\">\n",
       "  <thead>\n",
       "    <tr style=\"text-align: right;\">\n",
       "      <th></th>\n",
       "      <th>customerID</th>\n",
       "      <th>gender</th>\n",
       "      <th>SeniorCitizen</th>\n",
       "      <th>Partner</th>\n",
       "      <th>Dependents</th>\n",
       "      <th>tenure</th>\n",
       "      <th>PhoneService</th>\n",
       "      <th>MultipleLines</th>\n",
       "      <th>InternetService</th>\n",
       "      <th>OnlineSecurity</th>\n",
       "      <th>...</th>\n",
       "      <th>DeviceProtection</th>\n",
       "      <th>TechSupport</th>\n",
       "      <th>StreamingTV</th>\n",
       "      <th>StreamingMovies</th>\n",
       "      <th>Contract</th>\n",
       "      <th>PaperlessBilling</th>\n",
       "      <th>PaymentMethod</th>\n",
       "      <th>MonthlyCharges</th>\n",
       "      <th>TotalCharges</th>\n",
       "      <th>Churn</th>\n",
       "    </tr>\n",
       "  </thead>\n",
       "  <tbody>\n",
       "    <tr>\n",
       "      <th>0</th>\n",
       "      <td>7590-VHVEG</td>\n",
       "      <td>Female</td>\n",
       "      <td>0</td>\n",
       "      <td>Yes</td>\n",
       "      <td>No</td>\n",
       "      <td>1</td>\n",
       "      <td>No</td>\n",
       "      <td>No phone service</td>\n",
       "      <td>DSL</td>\n",
       "      <td>No</td>\n",
       "      <td>...</td>\n",
       "      <td>No</td>\n",
       "      <td>No</td>\n",
       "      <td>No</td>\n",
       "      <td>No</td>\n",
       "      <td>Month-to-month</td>\n",
       "      <td>Yes</td>\n",
       "      <td>Electronic check</td>\n",
       "      <td>29.85</td>\n",
       "      <td>29.85</td>\n",
       "      <td>No</td>\n",
       "    </tr>\n",
       "    <tr>\n",
       "      <th>1</th>\n",
       "      <td>5575-GNVDE</td>\n",
       "      <td>Male</td>\n",
       "      <td>0</td>\n",
       "      <td>No</td>\n",
       "      <td>No</td>\n",
       "      <td>34</td>\n",
       "      <td>Yes</td>\n",
       "      <td>No</td>\n",
       "      <td>DSL</td>\n",
       "      <td>Yes</td>\n",
       "      <td>...</td>\n",
       "      <td>Yes</td>\n",
       "      <td>No</td>\n",
       "      <td>No</td>\n",
       "      <td>No</td>\n",
       "      <td>One year</td>\n",
       "      <td>No</td>\n",
       "      <td>Mailed check</td>\n",
       "      <td>56.95</td>\n",
       "      <td>1889.50</td>\n",
       "      <td>No</td>\n",
       "    </tr>\n",
       "  </tbody>\n",
       "</table>\n",
       "<p>2 rows × 21 columns</p>\n",
       "</div>"
      ],
      "text/plain": [
       "   customerID  gender  SeniorCitizen Partner Dependents  tenure PhoneService  \\\n",
       "0  7590-VHVEG  Female              0     Yes         No       1           No   \n",
       "1  5575-GNVDE    Male              0      No         No      34          Yes   \n",
       "\n",
       "      MultipleLines InternetService OnlineSecurity  ... DeviceProtection  \\\n",
       "0  No phone service             DSL             No  ...               No   \n",
       "1                No             DSL            Yes  ...              Yes   \n",
       "\n",
       "  TechSupport StreamingTV StreamingMovies        Contract PaperlessBilling  \\\n",
       "0          No          No              No  Month-to-month              Yes   \n",
       "1          No          No              No        One year               No   \n",
       "\n",
       "      PaymentMethod MonthlyCharges  TotalCharges  Churn  \n",
       "0  Electronic check          29.85         29.85     No  \n",
       "1      Mailed check          56.95       1889.50     No  \n",
       "\n",
       "[2 rows x 21 columns]"
      ]
     },
     "execution_count": 3,
     "metadata": {},
     "output_type": "execute_result"
    }
   ],
   "source": [
    "data.head(2)"
   ]
  },
  {
   "cell_type": "code",
   "execution_count": 4,
   "id": "armed-participation",
   "metadata": {
    "scrolled": false
   },
   "outputs": [
    {
     "data": {
      "text/html": [
       "<div>\n",
       "<style scoped>\n",
       "    .dataframe tbody tr th:only-of-type {\n",
       "        vertical-align: middle;\n",
       "    }\n",
       "\n",
       "    .dataframe tbody tr th {\n",
       "        vertical-align: top;\n",
       "    }\n",
       "\n",
       "    .dataframe thead th {\n",
       "        text-align: right;\n",
       "    }\n",
       "</style>\n",
       "<table border=\"1\" class=\"dataframe\">\n",
       "  <thead>\n",
       "    <tr style=\"text-align: right;\">\n",
       "      <th></th>\n",
       "      <th>count</th>\n",
       "      <th>unique</th>\n",
       "      <th>top</th>\n",
       "      <th>freq</th>\n",
       "      <th>mean</th>\n",
       "      <th>std</th>\n",
       "      <th>min</th>\n",
       "      <th>25%</th>\n",
       "      <th>50%</th>\n",
       "      <th>75%</th>\n",
       "      <th>max</th>\n",
       "    </tr>\n",
       "  </thead>\n",
       "  <tbody>\n",
       "    <tr>\n",
       "      <th>customerID</th>\n",
       "      <td>7043</td>\n",
       "      <td>7043</td>\n",
       "      <td>6608-QQLVK</td>\n",
       "      <td>1</td>\n",
       "      <td>NaN</td>\n",
       "      <td>NaN</td>\n",
       "      <td>NaN</td>\n",
       "      <td>NaN</td>\n",
       "      <td>NaN</td>\n",
       "      <td>NaN</td>\n",
       "      <td>NaN</td>\n",
       "    </tr>\n",
       "    <tr>\n",
       "      <th>gender</th>\n",
       "      <td>7043</td>\n",
       "      <td>2</td>\n",
       "      <td>Male</td>\n",
       "      <td>3555</td>\n",
       "      <td>NaN</td>\n",
       "      <td>NaN</td>\n",
       "      <td>NaN</td>\n",
       "      <td>NaN</td>\n",
       "      <td>NaN</td>\n",
       "      <td>NaN</td>\n",
       "      <td>NaN</td>\n",
       "    </tr>\n",
       "    <tr>\n",
       "      <th>SeniorCitizen</th>\n",
       "      <td>7043.0</td>\n",
       "      <td>NaN</td>\n",
       "      <td>NaN</td>\n",
       "      <td>NaN</td>\n",
       "      <td>0.162147</td>\n",
       "      <td>0.368612</td>\n",
       "      <td>0.0</td>\n",
       "      <td>0.0</td>\n",
       "      <td>0.0</td>\n",
       "      <td>0.0</td>\n",
       "      <td>1.0</td>\n",
       "    </tr>\n",
       "    <tr>\n",
       "      <th>Partner</th>\n",
       "      <td>7043</td>\n",
       "      <td>2</td>\n",
       "      <td>No</td>\n",
       "      <td>3641</td>\n",
       "      <td>NaN</td>\n",
       "      <td>NaN</td>\n",
       "      <td>NaN</td>\n",
       "      <td>NaN</td>\n",
       "      <td>NaN</td>\n",
       "      <td>NaN</td>\n",
       "      <td>NaN</td>\n",
       "    </tr>\n",
       "    <tr>\n",
       "      <th>Dependents</th>\n",
       "      <td>7043</td>\n",
       "      <td>2</td>\n",
       "      <td>No</td>\n",
       "      <td>4933</td>\n",
       "      <td>NaN</td>\n",
       "      <td>NaN</td>\n",
       "      <td>NaN</td>\n",
       "      <td>NaN</td>\n",
       "      <td>NaN</td>\n",
       "      <td>NaN</td>\n",
       "      <td>NaN</td>\n",
       "    </tr>\n",
       "    <tr>\n",
       "      <th>tenure</th>\n",
       "      <td>7043.0</td>\n",
       "      <td>NaN</td>\n",
       "      <td>NaN</td>\n",
       "      <td>NaN</td>\n",
       "      <td>32.371149</td>\n",
       "      <td>24.559481</td>\n",
       "      <td>0.0</td>\n",
       "      <td>9.0</td>\n",
       "      <td>29.0</td>\n",
       "      <td>55.0</td>\n",
       "      <td>72.0</td>\n",
       "    </tr>\n",
       "    <tr>\n",
       "      <th>PhoneService</th>\n",
       "      <td>7043</td>\n",
       "      <td>2</td>\n",
       "      <td>Yes</td>\n",
       "      <td>6361</td>\n",
       "      <td>NaN</td>\n",
       "      <td>NaN</td>\n",
       "      <td>NaN</td>\n",
       "      <td>NaN</td>\n",
       "      <td>NaN</td>\n",
       "      <td>NaN</td>\n",
       "      <td>NaN</td>\n",
       "    </tr>\n",
       "    <tr>\n",
       "      <th>MultipleLines</th>\n",
       "      <td>7043</td>\n",
       "      <td>3</td>\n",
       "      <td>No</td>\n",
       "      <td>3390</td>\n",
       "      <td>NaN</td>\n",
       "      <td>NaN</td>\n",
       "      <td>NaN</td>\n",
       "      <td>NaN</td>\n",
       "      <td>NaN</td>\n",
       "      <td>NaN</td>\n",
       "      <td>NaN</td>\n",
       "    </tr>\n",
       "    <tr>\n",
       "      <th>InternetService</th>\n",
       "      <td>7043</td>\n",
       "      <td>3</td>\n",
       "      <td>Fiber optic</td>\n",
       "      <td>3096</td>\n",
       "      <td>NaN</td>\n",
       "      <td>NaN</td>\n",
       "      <td>NaN</td>\n",
       "      <td>NaN</td>\n",
       "      <td>NaN</td>\n",
       "      <td>NaN</td>\n",
       "      <td>NaN</td>\n",
       "    </tr>\n",
       "    <tr>\n",
       "      <th>OnlineSecurity</th>\n",
       "      <td>7043</td>\n",
       "      <td>3</td>\n",
       "      <td>No</td>\n",
       "      <td>3498</td>\n",
       "      <td>NaN</td>\n",
       "      <td>NaN</td>\n",
       "      <td>NaN</td>\n",
       "      <td>NaN</td>\n",
       "      <td>NaN</td>\n",
       "      <td>NaN</td>\n",
       "      <td>NaN</td>\n",
       "    </tr>\n",
       "    <tr>\n",
       "      <th>OnlineBackup</th>\n",
       "      <td>7043</td>\n",
       "      <td>3</td>\n",
       "      <td>No</td>\n",
       "      <td>3088</td>\n",
       "      <td>NaN</td>\n",
       "      <td>NaN</td>\n",
       "      <td>NaN</td>\n",
       "      <td>NaN</td>\n",
       "      <td>NaN</td>\n",
       "      <td>NaN</td>\n",
       "      <td>NaN</td>\n",
       "    </tr>\n",
       "    <tr>\n",
       "      <th>DeviceProtection</th>\n",
       "      <td>7043</td>\n",
       "      <td>3</td>\n",
       "      <td>No</td>\n",
       "      <td>3095</td>\n",
       "      <td>NaN</td>\n",
       "      <td>NaN</td>\n",
       "      <td>NaN</td>\n",
       "      <td>NaN</td>\n",
       "      <td>NaN</td>\n",
       "      <td>NaN</td>\n",
       "      <td>NaN</td>\n",
       "    </tr>\n",
       "    <tr>\n",
       "      <th>TechSupport</th>\n",
       "      <td>7043</td>\n",
       "      <td>3</td>\n",
       "      <td>No</td>\n",
       "      <td>3473</td>\n",
       "      <td>NaN</td>\n",
       "      <td>NaN</td>\n",
       "      <td>NaN</td>\n",
       "      <td>NaN</td>\n",
       "      <td>NaN</td>\n",
       "      <td>NaN</td>\n",
       "      <td>NaN</td>\n",
       "    </tr>\n",
       "    <tr>\n",
       "      <th>StreamingTV</th>\n",
       "      <td>7043</td>\n",
       "      <td>3</td>\n",
       "      <td>No</td>\n",
       "      <td>2810</td>\n",
       "      <td>NaN</td>\n",
       "      <td>NaN</td>\n",
       "      <td>NaN</td>\n",
       "      <td>NaN</td>\n",
       "      <td>NaN</td>\n",
       "      <td>NaN</td>\n",
       "      <td>NaN</td>\n",
       "    </tr>\n",
       "    <tr>\n",
       "      <th>StreamingMovies</th>\n",
       "      <td>7043</td>\n",
       "      <td>3</td>\n",
       "      <td>No</td>\n",
       "      <td>2785</td>\n",
       "      <td>NaN</td>\n",
       "      <td>NaN</td>\n",
       "      <td>NaN</td>\n",
       "      <td>NaN</td>\n",
       "      <td>NaN</td>\n",
       "      <td>NaN</td>\n",
       "      <td>NaN</td>\n",
       "    </tr>\n",
       "    <tr>\n",
       "      <th>Contract</th>\n",
       "      <td>7043</td>\n",
       "      <td>3</td>\n",
       "      <td>Month-to-month</td>\n",
       "      <td>3875</td>\n",
       "      <td>NaN</td>\n",
       "      <td>NaN</td>\n",
       "      <td>NaN</td>\n",
       "      <td>NaN</td>\n",
       "      <td>NaN</td>\n",
       "      <td>NaN</td>\n",
       "      <td>NaN</td>\n",
       "    </tr>\n",
       "    <tr>\n",
       "      <th>PaperlessBilling</th>\n",
       "      <td>7043</td>\n",
       "      <td>2</td>\n",
       "      <td>Yes</td>\n",
       "      <td>4171</td>\n",
       "      <td>NaN</td>\n",
       "      <td>NaN</td>\n",
       "      <td>NaN</td>\n",
       "      <td>NaN</td>\n",
       "      <td>NaN</td>\n",
       "      <td>NaN</td>\n",
       "      <td>NaN</td>\n",
       "    </tr>\n",
       "    <tr>\n",
       "      <th>PaymentMethod</th>\n",
       "      <td>7043</td>\n",
       "      <td>4</td>\n",
       "      <td>Electronic check</td>\n",
       "      <td>2365</td>\n",
       "      <td>NaN</td>\n",
       "      <td>NaN</td>\n",
       "      <td>NaN</td>\n",
       "      <td>NaN</td>\n",
       "      <td>NaN</td>\n",
       "      <td>NaN</td>\n",
       "      <td>NaN</td>\n",
       "    </tr>\n",
       "    <tr>\n",
       "      <th>MonthlyCharges</th>\n",
       "      <td>7043.0</td>\n",
       "      <td>NaN</td>\n",
       "      <td>NaN</td>\n",
       "      <td>NaN</td>\n",
       "      <td>64.761692</td>\n",
       "      <td>30.090047</td>\n",
       "      <td>18.25</td>\n",
       "      <td>35.5</td>\n",
       "      <td>70.35</td>\n",
       "      <td>89.85</td>\n",
       "      <td>118.75</td>\n",
       "    </tr>\n",
       "    <tr>\n",
       "      <th>TotalCharges</th>\n",
       "      <td>7032.0</td>\n",
       "      <td>NaN</td>\n",
       "      <td>NaN</td>\n",
       "      <td>NaN</td>\n",
       "      <td>2283.300441</td>\n",
       "      <td>2266.771362</td>\n",
       "      <td>18.8</td>\n",
       "      <td>401.45</td>\n",
       "      <td>1397.475</td>\n",
       "      <td>3794.7375</td>\n",
       "      <td>8684.8</td>\n",
       "    </tr>\n",
       "    <tr>\n",
       "      <th>Churn</th>\n",
       "      <td>7043</td>\n",
       "      <td>2</td>\n",
       "      <td>No</td>\n",
       "      <td>5174</td>\n",
       "      <td>NaN</td>\n",
       "      <td>NaN</td>\n",
       "      <td>NaN</td>\n",
       "      <td>NaN</td>\n",
       "      <td>NaN</td>\n",
       "      <td>NaN</td>\n",
       "      <td>NaN</td>\n",
       "    </tr>\n",
       "  </tbody>\n",
       "</table>\n",
       "</div>"
      ],
      "text/plain": [
       "                   count unique               top  freq         mean  \\\n",
       "customerID          7043   7043        6608-QQLVK     1          NaN   \n",
       "gender              7043      2              Male  3555          NaN   \n",
       "SeniorCitizen     7043.0    NaN               NaN   NaN     0.162147   \n",
       "Partner             7043      2                No  3641          NaN   \n",
       "Dependents          7043      2                No  4933          NaN   \n",
       "tenure            7043.0    NaN               NaN   NaN    32.371149   \n",
       "PhoneService        7043      2               Yes  6361          NaN   \n",
       "MultipleLines       7043      3                No  3390          NaN   \n",
       "InternetService     7043      3       Fiber optic  3096          NaN   \n",
       "OnlineSecurity      7043      3                No  3498          NaN   \n",
       "OnlineBackup        7043      3                No  3088          NaN   \n",
       "DeviceProtection    7043      3                No  3095          NaN   \n",
       "TechSupport         7043      3                No  3473          NaN   \n",
       "StreamingTV         7043      3                No  2810          NaN   \n",
       "StreamingMovies     7043      3                No  2785          NaN   \n",
       "Contract            7043      3    Month-to-month  3875          NaN   \n",
       "PaperlessBilling    7043      2               Yes  4171          NaN   \n",
       "PaymentMethod       7043      4  Electronic check  2365          NaN   \n",
       "MonthlyCharges    7043.0    NaN               NaN   NaN    64.761692   \n",
       "TotalCharges      7032.0    NaN               NaN   NaN  2283.300441   \n",
       "Churn               7043      2                No  5174          NaN   \n",
       "\n",
       "                          std    min     25%       50%        75%     max  \n",
       "customerID                NaN    NaN     NaN       NaN        NaN     NaN  \n",
       "gender                    NaN    NaN     NaN       NaN        NaN     NaN  \n",
       "SeniorCitizen        0.368612    0.0     0.0       0.0        0.0     1.0  \n",
       "Partner                   NaN    NaN     NaN       NaN        NaN     NaN  \n",
       "Dependents                NaN    NaN     NaN       NaN        NaN     NaN  \n",
       "tenure              24.559481    0.0     9.0      29.0       55.0    72.0  \n",
       "PhoneService              NaN    NaN     NaN       NaN        NaN     NaN  \n",
       "MultipleLines             NaN    NaN     NaN       NaN        NaN     NaN  \n",
       "InternetService           NaN    NaN     NaN       NaN        NaN     NaN  \n",
       "OnlineSecurity            NaN    NaN     NaN       NaN        NaN     NaN  \n",
       "OnlineBackup              NaN    NaN     NaN       NaN        NaN     NaN  \n",
       "DeviceProtection          NaN    NaN     NaN       NaN        NaN     NaN  \n",
       "TechSupport               NaN    NaN     NaN       NaN        NaN     NaN  \n",
       "StreamingTV               NaN    NaN     NaN       NaN        NaN     NaN  \n",
       "StreamingMovies           NaN    NaN     NaN       NaN        NaN     NaN  \n",
       "Contract                  NaN    NaN     NaN       NaN        NaN     NaN  \n",
       "PaperlessBilling          NaN    NaN     NaN       NaN        NaN     NaN  \n",
       "PaymentMethod             NaN    NaN     NaN       NaN        NaN     NaN  \n",
       "MonthlyCharges      30.090047  18.25    35.5     70.35      89.85  118.75  \n",
       "TotalCharges      2266.771362   18.8  401.45  1397.475  3794.7375  8684.8  \n",
       "Churn                     NaN    NaN     NaN       NaN        NaN     NaN  "
      ]
     },
     "execution_count": 4,
     "metadata": {},
     "output_type": "execute_result"
    }
   ],
   "source": [
    "# some basic statistics insight\n",
    "data.describe(include='all').T"
   ]
  },
  {
   "cell_type": "markdown",
   "id": "photographic-handbook",
   "metadata": {},
   "source": [
    "**Clearly, each customer has unique `customerID`. And it has no impact over staying or leaving of any customer.**\n",
    "\n",
    "So we going to drop this column."
   ]
  },
  {
   "cell_type": "code",
   "execution_count": 5,
   "id": "enclosed-stereo",
   "metadata": {},
   "outputs": [],
   "source": [
    "ID = data['customerID']\n",
    "data = data.drop(columns = ['customerID'])"
   ]
  },
  {
   "cell_type": "markdown",
   "id": "angry-cooper",
   "metadata": {},
   "source": [
    "### Dealing with ouliers"
   ]
  },
  {
   "cell_type": "code",
   "execution_count": 6,
   "id": "remarkable-orleans",
   "metadata": {},
   "outputs": [
    {
     "data": {
      "image/png": "[encoded data removed]",
      "text/plain": [
       "<Figure size 432x288 with 1 Axes>"
      ]
     },
     "metadata": {
      "needs_background": "light"
     },
     "output_type": "display_data"
    }
   ],
   "source": [
    "data['TotalCharges'].plot(kind='box');"
   ]
  },
  {
   "cell_type": "code",
   "execution_count": 7,
   "id": "italian-insulin",
   "metadata": {},
   "outputs": [
    {
     "data": {
      "image/png": "[encoded data removed]",
      "text/plain": [
       "<Figure size 432x288 with 1 Axes>"
      ]
     },
     "metadata": {
      "needs_background": "light"
     },
     "output_type": "display_data"
    }
   ],
   "source": [
    "data['MonthlyCharges'].plot(kind='box');"
   ]
  },
  {
   "cell_type": "code",
   "execution_count": 8,
   "id": "subsequent-coordinator",
   "metadata": {},
   "outputs": [
    {
     "data": {
      "image/png": "[encoded data removed]",
      "text/plain": [
       "<Figure size 432x288 with 1 Axes>"
      ]
     },
     "metadata": {
      "needs_background": "light"
     },
     "output_type": "display_data"
    }
   ],
   "source": [
    "data['tenure'].plot(kind='box');"
   ]
  },
  {
   "cell_type": "markdown",
   "id": "united-titanium",
   "metadata": {},
   "source": [
    "**There seems to be no outliers in this dataset.**"
   ]
  },
  {
   "cell_type": "code",
   "execution_count": 9,
   "id": "expired-andrew",
   "metadata": {
    "scrolled": false
   },
   "outputs": [
    {
     "name": "stdout",
     "output_type": "stream",
     "text": [
      "<class 'pandas.core.frame.DataFrame'>\n",
      "RangeIndex: 7043 entries, 0 to 7042\n",
      "Data columns (total 20 columns):\n",
      " #   Column            Non-Null Count  Dtype  \n",
      "---  ------            --------------  -----  \n",
      " 0   gender            7043 non-null   object \n",
      " 1   SeniorCitizen     7043 non-null   int64  \n",
      " 2   Partner           7043 non-null   object \n",
      " 3   Dependents        7043 non-null   object \n",
      " 4   tenure            7043 non-null   int64  \n",
      " 5   PhoneService      7043 non-null   object \n",
      " 6   MultipleLines     7043 non-null   object \n",
      " 7   InternetService   7043 non-null   object \n",
      " 8   OnlineSecurity    7043 non-null   object \n",
      " 9   OnlineBackup      7043 non-null   object \n",
      " 10  DeviceProtection  7043 non-null   object \n",
      " 11  TechSupport       7043 non-null   object \n",
      " 12  StreamingTV       7043 non-null   object \n",
      " 13  StreamingMovies   7043 non-null   object \n",
      " 14  Contract          7043 non-null   object \n",
      " 15  PaperlessBilling  7043 non-null   object \n",
      " 16  PaymentMethod     7043 non-null   object \n",
      " 17  MonthlyCharges    7043 non-null   float64\n",
      " 18  TotalCharges      7032 non-null   float64\n",
      " 19  Churn             7043 non-null   object \n",
      "dtypes: float64(2), int64(2), object(16)\n",
      "memory usage: 1.1+ MB\n"
     ]
    }
   ],
   "source": [
    "data.info()"
   ]
  },
  {
   "cell_type": "markdown",
   "id": "banner-sleeping",
   "metadata": {},
   "source": [
    "**All datatypes seems to be correct.**"
   ]
  },
  {
   "cell_type": "code",
   "execution_count": 10,
   "id": "political-theme",
   "metadata": {
    "scrolled": false
   },
   "outputs": [
    {
     "data": {
      "text/plain": [
       "gender               0\n",
       "SeniorCitizen        0\n",
       "Partner              0\n",
       "Dependents           0\n",
       "tenure               0\n",
       "PhoneService         0\n",
       "MultipleLines        0\n",
       "InternetService      0\n",
       "OnlineSecurity       0\n",
       "OnlineBackup         0\n",
       "DeviceProtection     0\n",
       "TechSupport          0\n",
       "StreamingTV          0\n",
       "StreamingMovies      0\n",
       "Contract             0\n",
       "PaperlessBilling     0\n",
       "PaymentMethod        0\n",
       "MonthlyCharges       0\n",
       "TotalCharges        11\n",
       "Churn                0\n",
       "dtype: int64"
      ]
     },
     "execution_count": 10,
     "metadata": {},
     "output_type": "execute_result"
    }
   ],
   "source": [
    "# finding total missing values from each columns\n",
    "data.isna().sum()"
   ]
  },
  {
   "cell_type": "markdown",
   "id": "north-arbitration",
   "metadata": {},
   "source": [
    "**Clearly, there is some missing data in `TotalCharges` column.** \n",
    "Filling the missing values with median."
   ]
  },
  {
   "cell_type": "code",
   "execution_count": 11,
   "id": "unsigned-friendly",
   "metadata": {},
   "outputs": [],
   "source": [
    "# filling TotalCharges by its median value\n",
    "data['TotalCharges'].fillna(data['TotalCharges'].median(), inplace=True)"
   ]
  },
  {
   "cell_type": "code",
   "execution_count": 12,
   "id": "cross-mineral",
   "metadata": {},
   "outputs": [
    {
     "data": {
      "text/plain": [
       "False"
      ]
     },
     "execution_count": 12,
     "metadata": {},
     "output_type": "execute_result"
    }
   ],
   "source": [
    "data.isna().sum().any()"
   ]
  },
  {
   "cell_type": "markdown",
   "id": "aware-moldova",
   "metadata": {},
   "source": [
    "**No missing value.**"
   ]
  },
  {
   "cell_type": "code",
   "execution_count": 13,
   "id": "missing-arkansas",
   "metadata": {},
   "outputs": [
    {
     "data": {
      "text/plain": [
       "No     5174\n",
       "Yes    1869\n",
       "Name: Churn, dtype: int64"
      ]
     },
     "execution_count": 13,
     "metadata": {},
     "output_type": "execute_result"
    }
   ],
   "source": [
    "# checking balancing of the dataset\n",
    "data['Churn'].value_counts()"
   ]
  },
  {
   "cell_type": "markdown",
   "id": "exciting-dynamics",
   "metadata": {},
   "source": [
    "**Clearly, the given dataset is highly imbalanced.**\n",
    "\n",
    "There are more active connections compared to the other non-active connections or churned counterparts."
   ]
  },
  {
   "cell_type": "code",
   "execution_count": 14,
   "id": "billion-snowboard",
   "metadata": {},
   "outputs": [
    {
     "data": {
      "image/png": "[encoded data removed]",
      "text/plain": [
       "<Figure size 432x288 with 1 Axes>"
      ]
     },
     "metadata": {
      "needs_background": "light"
     },
     "output_type": "display_data"
    }
   ],
   "source": [
    "pd.crosstab(data['gender'],data['Churn']).plot(kind='bar');"
   ]
  },
  {
   "cell_type": "markdown",
   "id": "casual-pepper",
   "metadata": {},
   "source": [
    "**Women seems to churn slightly more than men.**"
   ]
  },
  {
   "cell_type": "markdown",
   "id": "stock-introduction",
   "metadata": {},
   "source": [
    "# Encoding categorical data\n",
    "Here we are going to use two methods.\n",
    "* For columns consisting of binary values, we are going to use LabelEncoder().\n",
    "* For columns having more than two values, later on we are going to use pandas's get_dummies(). For now, we do nothing."
   ]
  },
  {
   "cell_type": "code",
   "execution_count": 15,
   "id": "filled-secondary",
   "metadata": {},
   "outputs": [
    {
     "name": "stdout",
     "output_type": "stream",
     "text": [
      "gender - 2 - ['Female' 'Male'].\n",
      "Partner - 2 - ['Yes' 'No'].\n",
      "Dependents - 2 - ['No' 'Yes'].\n",
      "PhoneService - 2 - ['No' 'Yes'].\n",
      "MultipleLines - 3 - ['No phone service' 'No' 'Yes'].\n",
      "InternetService - 3 - ['DSL' 'Fiber optic' 'No'].\n",
      "OnlineSecurity - 3 - ['No' 'Yes' 'No internet service'].\n",
      "OnlineBackup - 3 - ['Yes' 'No' 'No internet service'].\n",
      "DeviceProtection - 3 - ['No' 'Yes' 'No internet service'].\n",
      "TechSupport - 3 - ['No' 'Yes' 'No internet service'].\n",
      "StreamingTV - 3 - ['No' 'Yes' 'No internet service'].\n",
      "StreamingMovies - 3 - ['No' 'Yes' 'No internet service'].\n",
      "Contract - 3 - ['Month-to-month' 'One year' 'Two year'].\n",
      "PaperlessBilling - 2 - ['Yes' 'No'].\n",
      "PaymentMethod - 4 - ['Electronic check' 'Mailed check' 'Bank transfer (automatic)'\n",
      " 'Credit card (automatic)'].\n",
      "Churn - 2 - ['No' 'Yes'].\n"
     ]
    }
   ],
   "source": [
    "# finding discrete values of each column having non numeric data type\n",
    "for col in data.select_dtypes(include='object').columns:\n",
    "    print(f'{col} - {data[col].nunique()} - {data[col].unique()}.')"
   ]
  },
  {
   "cell_type": "code",
   "execution_count": 16,
   "id": "caring-bacteria",
   "metadata": {},
   "outputs": [
    {
     "name": "stdout",
     "output_type": "stream",
     "text": [
      "LabelEncoding for binary value columns finishes.\n"
     ]
    }
   ],
   "source": [
    "# initialising LabelEncoder instance (l_encoder)\n",
    "l_encoder = LabelEncoder()\n",
    "\n",
    "for col in data.select_dtypes(include = 'object').columns:\n",
    "    if data[col].nunique()==2:\n",
    "        # applying LabelEncoder()\n",
    "        data[col] = l_encoder.fit_transform(data[col])\n",
    "\n",
    "print('LabelEncoding for binary value columns finishes.')"
   ]
  },
  {
   "cell_type": "markdown",
   "id": "variable-coast",
   "metadata": {},
   "source": [
    "# Checking correlations and multicolinearity between columns\n",
    "First of all, we will try to find correlation of each numerical datatype column with the target column(`Churn`). After that, we try to plot correlation matrix and try to find out multi-correlated columns using Variance Inflation Factors(VIF)."
   ]
  },
  {
   "cell_type": "code",
   "execution_count": 17,
   "id": "pressing-punishment",
   "metadata": {},
   "outputs": [
    {
     "data": {
      "image/png": "[encoded data removed]",
      "text/plain": [
       "<Figure size 432x432 with 1 Axes>"
      ]
     },
     "metadata": {
      "needs_background": "light"
     },
     "output_type": "display_data"
    }
   ],
   "source": [
    "# checking for mulicolinearity between numerical data and Churn column\n",
    "data2 = data.select_dtypes(exclude = 'object')\n",
    "\n",
    "corr_churn = data2.corrwith(data2['Churn'])\n",
    "# to take out Churn column\n",
    "corr_churn[:-1].plot.bar(figsize=(6,6), color='Salmon', grid=True)\n",
    "plt.ylim(-1,1)\n",
    "plt.show()"
   ]
  },
  {
   "cell_type": "markdown",
   "id": "internal-today",
   "metadata": {},
   "source": [
    "**Clearly, `gender` and `PhoneService` has very low correlation with the target column.**\n",
    "\n",
    "Also, there is positive correlation of `SeniorCitizen`, `PaperlessBilling` and `MonthlyCharges` with target column. While, there is negative correlation of `Partner`, `Dependents`, `tenure` and `TotalCharges` with target column."
   ]
  },
  {
   "cell_type": "code",
   "execution_count": 18,
   "id": "fixed-dialogue",
   "metadata": {},
   "outputs": [
    {
     "data": {
      "image/png": "[encoded data removed]",
      "text/plain": [
       "<Figure size 720x720 with 2 Axes>"
      ]
     },
     "metadata": {
      "needs_background": "light"
     },
     "output_type": "display_data"
    }
   ],
   "source": [
    "# plotting correlation matrix\n",
    "fig, ax = plt.subplots(figsize=(10,10))\n",
    "ax = sns.heatmap(data.corr(), annot=True, cmap='RdYlGn', linewidths=.5)\n",
    "plt.show()"
   ]
  },
  {
   "cell_type": "markdown",
   "id": "surrounded-paper",
   "metadata": {},
   "source": [
    "`TotalCharges` is highly positively correlated with `tenure` and `MonthlyCharges`."
   ]
  },
  {
   "cell_type": "code",
   "execution_count": 19,
   "id": "known-antenna",
   "metadata": {},
   "outputs": [],
   "source": [
    "def calc_VIF(dataset):\n",
    "    '''\n",
    "    This function finds out the Multicorrelated columns using Variance Inflation Factors(VIF) and returns back a dataframe consisting of column's name and their VIFs.\n",
    "    '''\n",
    "    vif = pd.DataFrame()\n",
    "    vif['features'] = dataset.columns\n",
    "    vif['VIF'] = [variance_inflation_factor(dataset.values,i) for i in range(dataset.shape[1])]\n",
    "    \n",
    "    return vif"
   ]
  },
  {
   "cell_type": "code",
   "execution_count": 20,
   "id": "opening-stomach",
   "metadata": {
    "scrolled": true
   },
   "outputs": [
    {
     "data": {
      "text/html": [
       "<div>\n",
       "<style scoped>\n",
       "    .dataframe tbody tr th:only-of-type {\n",
       "        vertical-align: middle;\n",
       "    }\n",
       "\n",
       "    .dataframe tbody tr th {\n",
       "        vertical-align: top;\n",
       "    }\n",
       "\n",
       "    .dataframe thead th {\n",
       "        text-align: right;\n",
       "    }\n",
       "</style>\n",
       "<table border=\"1\" class=\"dataframe\">\n",
       "  <thead>\n",
       "    <tr style=\"text-align: right;\">\n",
       "      <th></th>\n",
       "      <th>features</th>\n",
       "      <th>VIF</th>\n",
       "    </tr>\n",
       "  </thead>\n",
       "  <tbody>\n",
       "    <tr>\n",
       "      <th>0</th>\n",
       "      <td>gender</td>\n",
       "      <td>1.922275</td>\n",
       "    </tr>\n",
       "    <tr>\n",
       "      <th>1</th>\n",
       "      <td>SeniorCitizen</td>\n",
       "      <td>1.336574</td>\n",
       "    </tr>\n",
       "    <tr>\n",
       "      <th>2</th>\n",
       "      <td>Partner</td>\n",
       "      <td>2.815461</td>\n",
       "    </tr>\n",
       "    <tr>\n",
       "      <th>3</th>\n",
       "      <td>Dependents</td>\n",
       "      <td>1.924342</td>\n",
       "    </tr>\n",
       "    <tr>\n",
       "      <th>4</th>\n",
       "      <td>tenure</td>\n",
       "      <td>10.635517</td>\n",
       "    </tr>\n",
       "    <tr>\n",
       "      <th>5</th>\n",
       "      <td>PhoneService</td>\n",
       "      <td>8.000377</td>\n",
       "    </tr>\n",
       "    <tr>\n",
       "      <th>6</th>\n",
       "      <td>PaperlessBilling</td>\n",
       "      <td>2.841558</td>\n",
       "    </tr>\n",
       "    <tr>\n",
       "      <th>7</th>\n",
       "      <td>MonthlyCharges</td>\n",
       "      <td>15.892306</td>\n",
       "    </tr>\n",
       "    <tr>\n",
       "      <th>8</th>\n",
       "      <td>TotalCharges</td>\n",
       "      <td>13.269451</td>\n",
       "    </tr>\n",
       "    <tr>\n",
       "      <th>9</th>\n",
       "      <td>Churn</td>\n",
       "      <td>1.791250</td>\n",
       "    </tr>\n",
       "  </tbody>\n",
       "</table>\n",
       "</div>"
      ],
      "text/plain": [
       "           features        VIF\n",
       "0            gender   1.922275\n",
       "1     SeniorCitizen   1.336574\n",
       "2           Partner   2.815461\n",
       "3        Dependents   1.924342\n",
       "4            tenure  10.635517\n",
       "5      PhoneService   8.000377\n",
       "6  PaperlessBilling   2.841558\n",
       "7    MonthlyCharges  15.892306\n",
       "8      TotalCharges  13.269451\n",
       "9             Churn   1.791250"
      ]
     },
     "execution_count": 20,
     "metadata": {},
     "output_type": "execute_result"
    }
   ],
   "source": [
    "VIF = calc_VIF(data.select_dtypes(exclude = 'object'))\n",
    "VIF"
   ]
  },
  {
   "cell_type": "markdown",
   "id": "plain-design",
   "metadata": {},
   "source": [
    "**Clearly, `MonthlyCharges`(15.89) and `TotalCharges`(13.27) have high VIF value.**"
   ]
  },
  {
   "cell_type": "code",
   "execution_count": 21,
   "id": "communist-process",
   "metadata": {},
   "outputs": [
    {
     "data": {
      "image/png": "[encoded data removed]",
      "text/plain": [
       "<Figure size 432x288 with 1 Axes>"
      ]
     },
     "metadata": {
      "needs_background": "light"
     },
     "output_type": "display_data"
    }
   ],
   "source": [
    "# plotting scatter plot for MonthlyCharges and TotalCharges\n",
    "plt.scatter(y = 'TotalCharges', x = 'MonthlyCharges', data = data, c = 'Salmon')\n",
    "plt.xlabel('MonthlyCharges')\n",
    "plt.ylabel('TotalCharges')\n",
    "plt.show()"
   ]
  },
  {
   "cell_type": "markdown",
   "id": "unlike-photography",
   "metadata": {},
   "source": [
    "Let's try to drop one column, namely `TotalCharges`, and again calculate VIFs."
   ]
  },
  {
   "cell_type": "code",
   "execution_count": 22,
   "id": "restricted-allowance",
   "metadata": {},
   "outputs": [
    {
     "data": {
      "text/html": [
       "<div>\n",
       "<style scoped>\n",
       "    .dataframe tbody tr th:only-of-type {\n",
       "        vertical-align: middle;\n",
       "    }\n",
       "\n",
       "    .dataframe tbody tr th {\n",
       "        vertical-align: top;\n",
       "    }\n",
       "\n",
       "    .dataframe thead th {\n",
       "        text-align: right;\n",
       "    }\n",
       "</style>\n",
       "<table border=\"1\" class=\"dataframe\">\n",
       "  <thead>\n",
       "    <tr style=\"text-align: right;\">\n",
       "      <th></th>\n",
       "      <th>features</th>\n",
       "      <th>VIF</th>\n",
       "    </tr>\n",
       "  </thead>\n",
       "  <tbody>\n",
       "    <tr>\n",
       "      <th>0</th>\n",
       "      <td>gender</td>\n",
       "      <td>1.883783</td>\n",
       "    </tr>\n",
       "    <tr>\n",
       "      <th>1</th>\n",
       "      <td>SeniorCitizen</td>\n",
       "      <td>1.334386</td>\n",
       "    </tr>\n",
       "    <tr>\n",
       "      <th>2</th>\n",
       "      <td>Partner</td>\n",
       "      <td>2.814820</td>\n",
       "    </tr>\n",
       "    <tr>\n",
       "      <th>3</th>\n",
       "      <td>Dependents</td>\n",
       "      <td>1.909050</td>\n",
       "    </tr>\n",
       "    <tr>\n",
       "      <th>4</th>\n",
       "      <td>tenure</td>\n",
       "      <td>3.771165</td>\n",
       "    </tr>\n",
       "    <tr>\n",
       "      <th>5</th>\n",
       "      <td>PhoneService</td>\n",
       "      <td>6.016842</td>\n",
       "    </tr>\n",
       "    <tr>\n",
       "      <th>6</th>\n",
       "      <td>PaperlessBilling</td>\n",
       "      <td>2.793307</td>\n",
       "    </tr>\n",
       "    <tr>\n",
       "      <th>7</th>\n",
       "      <td>MonthlyCharges</td>\n",
       "      <td>8.060740</td>\n",
       "    </tr>\n",
       "    <tr>\n",
       "      <th>8</th>\n",
       "      <td>Churn</td>\n",
       "      <td>1.707811</td>\n",
       "    </tr>\n",
       "  </tbody>\n",
       "</table>\n",
       "</div>"
      ],
      "text/plain": [
       "           features       VIF\n",
       "0            gender  1.883783\n",
       "1     SeniorCitizen  1.334386\n",
       "2           Partner  2.814820\n",
       "3        Dependents  1.909050\n",
       "4            tenure  3.771165\n",
       "5      PhoneService  6.016842\n",
       "6  PaperlessBilling  2.793307\n",
       "7    MonthlyCharges  8.060740\n",
       "8             Churn  1.707811"
      ]
     },
     "execution_count": 22,
     "metadata": {},
     "output_type": "execute_result"
    }
   ],
   "source": [
    "VIF1 = calc_VIF(data.select_dtypes(exclude = 'object').drop(columns = 'TotalCharges'))\n",
    "VIF1"
   ]
  },
  {
   "cell_type": "markdown",
   "id": "anonymous-instruction",
   "metadata": {},
   "source": [
    "**After removing `TotalCharges`, the VIFs of all other columns decreases to some extent.**"
   ]
  },
  {
   "cell_type": "markdown",
   "id": "constitutional-consistency",
   "metadata": {},
   "source": [
    "### Using pd.get_dummies for rest non-binary categorical columns"
   ]
  },
  {
   "cell_type": "code",
   "execution_count": 23,
   "id": "apart-vitamin",
   "metadata": {},
   "outputs": [],
   "source": [
    "data = pd.get_dummies(data)"
   ]
  },
  {
   "cell_type": "markdown",
   "id": "postal-amino",
   "metadata": {},
   "source": [
    "# Dividing dataset into calibration and validation set"
   ]
  },
  {
   "cell_type": "code",
   "execution_count": 24,
   "id": "martial-density",
   "metadata": {},
   "outputs": [],
   "source": [
    "calibration_data = data[:4000]\n",
    "validation_data = data[4000:]"
   ]
  },
  {
   "cell_type": "code",
   "execution_count": 25,
   "id": "positive-cherry",
   "metadata": {},
   "outputs": [],
   "source": [
    "# feature and target from training dataset\n",
    "y_train = calibration_data['Churn']\n",
    "X_train = calibration_data.drop(columns='Churn')\n",
    "\n",
    "# feature and target from testing dataset\n",
    "y_test = validation_data['Churn']\n",
    "X_test = validation_data.drop(columns='Churn')"
   ]
  },
  {
   "cell_type": "markdown",
   "id": "brave-third",
   "metadata": {},
   "source": [
    "# Scaling training and testing dataset"
   ]
  },
  {
   "cell_type": "code",
   "execution_count": 26,
   "id": "appointed-decade",
   "metadata": {},
   "outputs": [],
   "source": [
    "# initiating scaler instance\n",
    "scaler = StandardScaler()\n",
    "\n",
    "train_temp = pd.DataFrame(scaler.fit_transform(X_train))\n",
    "train_temp.columns = X_train.columns.values\n",
    "train_temp.index = X_train.index.values\n",
    "\n",
    "# overwriting on previous training dataset\n",
    "X_train = train_temp\n",
    "\n",
    "# transforming test dataset \n",
    "test_temp = pd.DataFrame(scaler.transform(X_test))\n",
    "test_temp.columns = X_test.columns.values\n",
    "test_temp.index = X_test.index.values\n",
    "\n",
    "# overwriting on previous testing dataset\n",
    "X_test = test_temp"
   ]
  },
  {
   "cell_type": "markdown",
   "id": "violent-veteran",
   "metadata": {},
   "source": [
    "# Model Selection on whole dataset"
   ]
  },
  {
   "cell_type": "code",
   "execution_count": 27,
   "id": "serial-backup",
   "metadata": {},
   "outputs": [],
   "source": [
    "def model_performance(model_arr, X = X_train, y = y_train):\n",
    "    '''\n",
    "    This function calculates the performance of each model formulated in model array(model_arr), using k-fold cross-validation . \n",
    "    And this function print this dataframe and visualize their respective accuracy and ROC AUC.'''\n",
    "    \n",
    "    # list for model results\n",
    "    model_name = []\n",
    "    acc_result = []\n",
    "    roc_result = []\n",
    "    model_result = pd.DataFrame(columns = ['Name', 'ROC AUC mean', 'ROC AUC std', 'Accuracy mean', 'Accuracy std'])\n",
    "    \n",
    "    # for indexing\n",
    "    i = 0\n",
    "    \n",
    "    for name, model in model_arr:\n",
    "        kfold = KFold(n_splits=10, random_state = 35, shuffle=True)\n",
    "        \n",
    "        # Accuracy result\n",
    "        cv_acc_result = cross_val_score(model, X, y, cv = kfold, scoring = 'accuracy')\n",
    "        # ROC AUC result\n",
    "        cv_roc_result = cross_val_score(model, X, y, cv = kfold, scoring = 'roc_auc')\n",
    "        \n",
    "        # appending results\n",
    "        model_name.append(name)\n",
    "        acc_result.append(cv_acc_result)\n",
    "        roc_result.append(cv_roc_result)\n",
    "        model_result.loc[i] = [name,\n",
    "                                round(cv_roc_result.mean()*100,2),\n",
    "                                round(cv_roc_result.std()*100,2),\n",
    "                                round(cv_acc_result.mean()*100,2),\n",
    "                                round(cv_acc_result.std()*100,2)]\n",
    "        i+=1\n",
    "    \n",
    "    # Sorting model_result into decrasing ROC AUC mean value\n",
    "    model_result.sort_values(by=['ROC AUC mean'], ascending=False, inplace=True)\n",
    "    \n",
    "    \n",
    "    # printing dataframe\n",
    "    print(model_result)\n",
    "    \n",
    "    # visualization of accuracy results\n",
    "    fig, ax  = plt.subplots(figsize=(10,6))\n",
    "    ax = plt.boxplot(acc_result)\n",
    "    plt.xticks(range(1,len(model_name)+1), model_name)\n",
    "    plt.title('Accuracy Score Comparison',fontsize = \"22\")\n",
    "    plt.show()\n",
    "    \n",
    "    # visualization of ROC AUC results\n",
    "    fig, ax  = plt.subplots(figsize=(10,6))\n",
    "    ax = plt.boxplot(roc_result)\n",
    "    plt.xticks(range(1,len(model_name)+1),model_name)\n",
    "    plt.title('ROC AUC Score Comparison',fontsize = \"22\")\n",
    "    plt.show()"
   ]
  },
  {
   "cell_type": "code",
   "execution_count": 28,
   "id": "occupational-thunder",
   "metadata": {},
   "outputs": [],
   "source": [
    "baseline_model = []\n",
    "\n",
    "baseline_model.append(('Logistic Regression', LogisticRegression(random_state = 35)))\n",
    "\n",
    "baseline_model.append(('SVC', SVC(random_state = 35)))\n",
    "\n",
    "baseline_model.append(('KNN', KNeighborsClassifier()))\n",
    "\n",
    "baseline_model.append(('Gaussian NB', GaussianNB()))\n",
    "\n",
    "baseline_model.append(('Decision Tree', DecisionTreeClassifier(random_state = 35)))\n",
    "\n",
    "baseline_model.append(('Random Forest', RandomForestClassifier(random_state = 35)))\n",
    "\n",
    "baseline_model.append(('Linear Discriminant', LinearDiscriminantAnalysis()))\n",
    "\n",
    "baseline_model.append(('XG Boost', XGBClassifier(use_label_encoder = False, eval_metric='mlogloss', random_state = 35)))"
   ]
  },
  {
   "cell_type": "code",
   "execution_count": 29,
   "id": "educated-course",
   "metadata": {},
   "outputs": [
    {
     "name": "stdout",
     "output_type": "stream",
     "text": [
      "                  Name  ROC AUC mean  ROC AUC std  Accuracy mean  Accuracy std\n",
      "0  Logistic Regression         85.26         1.73          80.20          1.58\n",
      "6  Linear Discriminant         84.53         1.84          79.75          1.57\n",
      "5        Random Forest         83.24         1.73          79.00          1.47\n",
      "3          Gaussian NB         82.85         2.21          69.60          2.22\n",
      "7             XG Boost         82.81         1.80          78.48          1.38\n",
      "1                  SVC         81.06         2.40          79.60          1.29\n",
      "2                  KNN         78.20         1.72          76.02          1.25\n",
      "4        Decision Tree         66.25         2.18          73.12          2.01\n"
     ]
    },
    {
     "data": {
      "image/png": "[encoded data removed]",
      "text/plain": [
       "<Figure size 720x432 with 1 Axes>"
      ]
     },
     "metadata": {
      "needs_background": "light"
     },
     "output_type": "display_data"
    },
    {
     "data": {
      "image/png": "[encoded data removed]",
      "text/plain": [
       "<Figure size 720x432 with 1 Axes>"
      ]
     },
     "metadata": {
      "needs_background": "light"
     },
     "output_type": "display_data"
    }
   ],
   "source": [
    "model_performance(baseline_model)"
   ]
  },
  {
   "cell_type": "markdown",
   "id": "wrapped-croatia",
   "metadata": {},
   "source": [
    "**Clearly, LogisticRegression() achieved a better ROC AUC score than the rest baseline models and the highest accuracy.**\n",
    "\n",
    "More things can also be done after baseline model performance. Like you can find optimal number of neighbors for KNN model. Or you can search for number of trees for RandomForest model to achieve a greater accuracy than preivous model. But for now, we won't be doing that.\n",
    "\n",
    "# Scoring models on whole datasets\n",
    "We are now going to find Score for each baseline model. For that, again we are going to define a function, to calculate Accuracy, Precision, Recall, F1 score."
   ]
  },
  {
   "cell_type": "code",
   "execution_count": 30,
   "id": "conditional-astrology",
   "metadata": {},
   "outputs": [],
   "source": [
    "def model_score(model_arr, X_train = X_train, y_train = y_train, X_test = X_test, y_test = y_test):\n",
    "    '''\n",
    "    This function calculates the score of each model formulated in model array(model_arr). These scoring consist of accuracy, precision, recall, f1 score.\n",
    "    And this function print scoring dataframe.'''\n",
    "    \n",
    "    # scoring dataframe \n",
    "    model_score = pd.DataFrame(columns = ['Name', 'Accuracy(%)', 'Precision(%)', 'Recall(%)', 'F1 Score(%)'])\n",
    "    \n",
    "    # for indexing\n",
    "    i = 0\n",
    "    \n",
    "    for name, model in model_arr:\n",
    "        # fitting model\n",
    "        model.fit(X_train,y_train)\n",
    "        # predicting on testing data\n",
    "        y_preds = model.predict(X_test)\n",
    "        \n",
    "        # scoring of model\n",
    "        accuracy = accuracy_score(y_test, y_preds)\n",
    "        precision = precision_score(y_test, y_preds)\n",
    "        recall = recall_score(y_test, y_preds)\n",
    "        f1 = f1_score(y_test, y_preds)\n",
    "        \n",
    "        # appending into dataframe\n",
    "        model_score.loc[i] = [name,\n",
    "                              round(accuracy*100,2),\n",
    "                              round(precision*100,2),\n",
    "                              round(recall*100,2),\n",
    "                              round(f1*100,2)]\n",
    "        i+=1\n",
    "        \n",
    "    model_score.sort_values(by='Accuracy(%)', ascending = False, inplace=True)\n",
    "    print(model_score)"
   ]
  },
  {
   "cell_type": "code",
   "execution_count": 31,
   "id": "statutory-accessory",
   "metadata": {},
   "outputs": [
    {
     "name": "stdout",
     "output_type": "stream",
     "text": [
      "                  Name  Accuracy(%)  Precision(%)  Recall(%)  F1 Score(%)\n",
      "0  Logistic Regression        80.51         66.32      54.80        60.01\n",
      "6  Linear Discriminant        79.36         63.11      54.56        58.52\n",
      "1                  SVC        79.30         65.07      48.40        55.51\n",
      "7             XG Boost        78.51         62.12      49.88        55.33\n",
      "5        Random Forest        78.38         62.71      46.80        53.60\n",
      "2                  KNN        75.58         54.68      49.63        52.03\n",
      "4        Decision Tree        72.76         48.95      48.77        48.86\n",
      "3          Gaussian NB        68.42         45.00      82.51        58.24\n"
     ]
    }
   ],
   "source": [
    "model_score(baseline_model)"
   ]
  },
  {
   "cell_type": "markdown",
   "id": "sharing-listing",
   "metadata": {},
   "source": [
    "**Clearly, Losistic Regession has done pretty good than other models.**\n",
    "\n",
    "# Model Evaluation\n",
    "From now onwards, we are going to use LogisticRegression model only. In this section, we are trying to evaluate this model."
   ]
  },
  {
   "cell_type": "code",
   "execution_count": 32,
   "id": "afraid-sister",
   "metadata": {},
   "outputs": [
    {
     "data": {
      "text/html": [
       "<div>\n",
       "<style scoped>\n",
       "    .dataframe tbody tr th:only-of-type {\n",
       "        vertical-align: middle;\n",
       "    }\n",
       "\n",
       "    .dataframe tbody tr th {\n",
       "        vertical-align: top;\n",
       "    }\n",
       "\n",
       "    .dataframe thead th {\n",
       "        text-align: right;\n",
       "    }\n",
       "</style>\n",
       "<table border=\"1\" class=\"dataframe\">\n",
       "  <thead>\n",
       "    <tr style=\"text-align: right;\">\n",
       "      <th></th>\n",
       "      <th>Accuracy</th>\n",
       "      <th>Precision</th>\n",
       "      <th>Recall</th>\n",
       "      <th>Area under curve</th>\n",
       "    </tr>\n",
       "  </thead>\n",
       "  <tbody>\n",
       "    <tr>\n",
       "      <th>Logistic Regression</th>\n",
       "      <td>80.2</td>\n",
       "      <td>64.93</td>\n",
       "      <td>55.05</td>\n",
       "      <td>85.26</td>\n",
       "    </tr>\n",
       "  </tbody>\n",
       "</table>\n",
       "</div>"
      ],
      "text/plain": [
       "                     Accuracy  Precision  Recall  Area under curve\n",
       "Logistic Regression      80.2      64.93   55.05             85.26"
      ]
     },
     "execution_count": 32,
     "metadata": {},
     "output_type": "execute_result"
    }
   ],
   "source": [
    "# initiating new instance\n",
    "clf = LogisticRegression(random_state = 35)\n",
    "\n",
    "kfold = KFold(n_splits=10, random_state = 35, shuffle = True)\n",
    "\n",
    "cv_acc = cross_val_score(clf, X_train, y_train, cv = kfold, scoring = 'accuracy')\n",
    "cv_pre = cross_val_score(clf, X_train, y_train, cv = kfold, scoring = 'precision')\n",
    "cv_rec = cross_val_score(clf, X_train, y_train, cv = kfold, scoring = 'recall')\n",
    "cv_f1 = cross_val_score(clf, X_train, y_train, cv = kfold, scoring = 'f1')\n",
    "cv_auc = cross_val_score(clf, X_train, y_train, cv = kfold, scoring = 'roc_auc')\n",
    "\n",
    "eval = pd.DataFrame(index=['Logistic Regression'])\n",
    "eval['Accuracy'] = round(cv_acc.mean()*100,2)\n",
    "eval['Precision'] = round(cv_pre.mean()*100,2)\n",
    "eval['Recall'] = round(cv_rec.mean()*100,2)\n",
    "eval['Area under curve'] = round(cv_auc.mean()*100,2)\n",
    "\n",
    "eval"
   ]
  },
  {
   "cell_type": "markdown",
   "id": "parliamentary-reporter",
   "metadata": {},
   "source": [
    "### Evaluating model using confusion matrix"
   ]
  },
  {
   "cell_type": "code",
   "execution_count": 33,
   "id": "romantic-skating",
   "metadata": {},
   "outputs": [
    {
     "data": {
      "text/plain": [
       "array([[2005,  226],\n",
       "       [ 367,  445]], dtype=int64)"
      ]
     },
     "execution_count": 33,
     "metadata": {},
     "output_type": "execute_result"
    }
   ],
   "source": [
    "clf.fit(X_train, y_train)\n",
    "y_preds = clf.predict(X_test)\n",
    "cm = confusion_matrix(y_test, y_preds)\n",
    "cm"
   ]
  },
  {
   "cell_type": "code",
   "execution_count": 34,
   "id": "related-friday",
   "metadata": {},
   "outputs": [
    {
     "data": {
      "image/png": "[encoded data removed]",
      "text/plain": [
       "<Figure size 432x288 with 2 Axes>"
      ]
     },
     "metadata": {
      "needs_background": "light"
     },
     "output_type": "display_data"
    }
   ],
   "source": [
    "sns.heatmap(cm, annot=True, linewidths=.5, fmt='.0f')\n",
    "plt.ylabel('Actual Label')\n",
    "plt.xlabel('Predicted Label')\n",
    "plt.show()"
   ]
  },
  {
   "cell_type": "markdown",
   "id": "liable-twins",
   "metadata": {},
   "source": [
    "**AS it was very clear from the start that this dataset is imbalanced.** That's why this model is good in prediciting '0' label target than the '1' label target."
   ]
  },
  {
   "cell_type": "markdown",
   "id": "apart-upgrade",
   "metadata": {},
   "source": [
    "### Evaluating model using ROC Graph"
   ]
  },
  {
   "cell_type": "code",
   "execution_count": 35,
   "id": "protected-audience",
   "metadata": {},
   "outputs": [
    {
     "data": {
      "image/png": "[encoded data removed]",
      "text/plain": [
       "<Figure size 432x288 with 1 Axes>"
      ]
     },
     "metadata": {
      "needs_background": "light"
     },
     "output_type": "display_data"
    }
   ],
   "source": [
    "roc_graph = plot_roc_curve(clf, X_train, y_train)\n",
    "plt.plot([0,1],[0,1], label = 'base rate')\n",
    "plt.legend()\n",
    "plt.show()"
   ]
  },
  {
   "cell_type": "markdown",
   "id": "roman-community",
   "metadata": {},
   "source": [
    "# Feature Selection"
   ]
  },
  {
   "cell_type": "code",
   "execution_count": 36,
   "id": "answering-dollar",
   "metadata": {},
   "outputs": [
    {
     "data": {
      "image/png": "[encoded data removed]",
      "text/plain": [
       "<Figure size 1368x360 with 1 Axes>"
      ]
     },
     "metadata": {
      "needs_background": "light"
     },
     "output_type": "display_data"
    }
   ],
   "source": [
    "clf = LogisticRegression(random_state = 35)\n",
    "clf.fit(X_train,y_train)\n",
    "importance_df = pd.DataFrame(clf.coef_[0], index = X_train.columns, columns = ['Importance'])\n",
    "importance_df['Absolute Importance'] = np.absolute(importance_df['Importance'])\n",
    "importance_df.sort_values(by='Absolute Importance', ascending=False, inplace=True)\n",
    "\n",
    "# plotting column's importance\n",
    "plt.figure(figsize=(19,5))\n",
    "importance_df['Importance'].plot(kind='bar')\n",
    "plt.show()"
   ]
  },
  {
   "cell_type": "code",
   "execution_count": 37,
   "id": "pregnant-cooling",
   "metadata": {},
   "outputs": [],
   "source": [
    "# selecting top 30 columns having high importance\n",
    "selected_col = importance_df[:30].index.tolist()"
   ]
  },
  {
   "cell_type": "code",
   "execution_count": 38,
   "id": "ambient-meditation",
   "metadata": {},
   "outputs": [],
   "source": [
    "# updating training and testing dataset\n",
    "X_train = X_train[selected_col]\n",
    "X_test = X_test[selected_col]"
   ]
  },
  {
   "cell_type": "markdown",
   "id": "exclusive-pacific",
   "metadata": {},
   "source": [
    "# Hypertuning of LogisticRegression using GridSearchCV() with selected columns"
   ]
  },
  {
   "cell_type": "code",
   "execution_count": 39,
   "id": "indian-setup",
   "metadata": {},
   "outputs": [
    {
     "name": "stdout",
     "output_type": "stream",
     "text": [
      "Fitting 10 folds for each of 21 candidates, totalling 210 fits\n"
     ]
    },
    {
     "data": {
      "text/plain": [
       "GridSearchCV(cv=KFold(n_splits=10, random_state=35, shuffle=True),\n",
       "             estimator=LogisticRegression(random_state=35),\n",
       "             param_grid={'C': [100, 10, 1, 0.1, 0.01, 0.001, 0.0001],\n",
       "                         'penalty': ['l2'],\n",
       "                         'solver': ['newton-cg', 'lbfgs', 'liblinear']},\n",
       "             scoring='accuracy', verbose=True)"
      ]
     },
     "execution_count": 39,
     "metadata": {},
     "output_type": "execute_result"
    }
   ],
   "source": [
    "# describing grid\n",
    "grid = {'penalty' : ['l2'],\n",
    "        'C' : [100, 10, 1, 0.1, 0.01, 0.001, 0.0001],\n",
    "        'solver' : ['newton-cg', 'lbfgs', 'liblinear']}\n",
    "\n",
    "# intializing new instance\n",
    "clf1 = LogisticRegression(random_state = 35)\n",
    "\n",
    "kfold = KFold(n_splits=10, random_state = 35, shuffle = True)\n",
    "\n",
    "gs_clf = GridSearchCV(clf1, param_grid = grid, cv= kfold, verbose = True, scoring='accuracy')\n",
    "gs_clf.fit(X_train, y_train)"
   ]
  },
  {
   "cell_type": "code",
   "execution_count": 40,
   "id": "nervous-hostel",
   "metadata": {},
   "outputs": [
    {
     "name": "stdout",
     "output_type": "stream",
     "text": [
      " Parameter - {'C': 1, 'penalty': 'l2', 'solver': 'newton-cg'}    Score - 0.8029999999999999\n"
     ]
    }
   ],
   "source": [
    "print(f' Parameter - {gs_clf.best_params_}    Score - {gs_clf.best_score_}')"
   ]
  },
  {
   "cell_type": "markdown",
   "id": "liable-study",
   "metadata": {},
   "source": [
    "## Evluating new model with best parameters"
   ]
  },
  {
   "cell_type": "code",
   "execution_count": 41,
   "id": "seeing-madison",
   "metadata": {},
   "outputs": [
    {
     "data": {
      "text/html": [
       "<div>\n",
       "<style scoped>\n",
       "    .dataframe tbody tr th:only-of-type {\n",
       "        vertical-align: middle;\n",
       "    }\n",
       "\n",
       "    .dataframe tbody tr th {\n",
       "        vertical-align: top;\n",
       "    }\n",
       "\n",
       "    .dataframe thead th {\n",
       "        text-align: right;\n",
       "    }\n",
       "</style>\n",
       "<table border=\"1\" class=\"dataframe\">\n",
       "  <thead>\n",
       "    <tr style=\"text-align: right;\">\n",
       "      <th></th>\n",
       "      <th>Accuracy</th>\n",
       "      <th>Precision</th>\n",
       "      <th>Recall</th>\n",
       "      <th>f1</th>\n",
       "    </tr>\n",
       "  </thead>\n",
       "  <tbody>\n",
       "    <tr>\n",
       "      <th>Logistic Regression</th>\n",
       "      <td>80.38</td>\n",
       "      <td>66.07</td>\n",
       "      <td>54.43</td>\n",
       "      <td>59.69</td>\n",
       "    </tr>\n",
       "  </tbody>\n",
       "</table>\n",
       "</div>"
      ],
      "text/plain": [
       "                     Accuracy  Precision  Recall     f1\n",
       "Logistic Regression     80.38      66.07   54.43  59.69"
      ]
     },
     "execution_count": 41,
     "metadata": {},
     "output_type": "execute_result"
    }
   ],
   "source": [
    "# initiating new instance\n",
    "clf = LogisticRegression(random_state = 35, C = 1, penalty = 'l2', solver = 'liblinear')\n",
    "\n",
    "clf.fit(X_train, y_train)\n",
    "y_preds = clf.predict(X_test)\n",
    "\n",
    "eval = pd.DataFrame(index=['Logistic Regression'])\n",
    "eval['Accuracy'] = round(accuracy_score(y_test, y_preds)*100,2)\n",
    "eval['Precision'] = round(precision_score(y_test, y_preds)*100,2)\n",
    "eval['Recall'] = round(recall_score(y_test, y_preds)*100,2)\n",
    "eval['f1'] = round(f1_score(y_test, y_preds)*100,2)\n",
    "\n",
    "eval"
   ]
  },
  {
   "cell_type": "code",
   "execution_count": 42,
   "id": "loaded-toronto",
   "metadata": {},
   "outputs": [
    {
     "name": "stdout",
     "output_type": "stream",
     "text": [
      "[[2004  227]\n",
      " [ 370  442]]\n"
     ]
    },
    {
     "data": {
      "image/png": "[encoded data removed]",
      "text/plain": [
       "<Figure size 432x288 with 2 Axes>"
      ]
     },
     "metadata": {
      "needs_background": "light"
     },
     "output_type": "display_data"
    }
   ],
   "source": [
    "cm = confusion_matrix(y_test, y_preds)\n",
    "print(cm)\n",
    "sns.heatmap(cm, annot=True, linewidths=.5, fmt='.0f')\n",
    "plt.ylabel('Actual Label')\n",
    "plt.xlabel('Predicted Label')\n",
    "plt.show()"
   ]
  },
  {
   "cell_type": "markdown",
   "id": "referenced-mustang",
   "metadata": {},
   "source": [
    "**Clearly, after hypertuning the classifier performance slightly decreases.** But we will keep this classifier and move ahead to the prediction."
   ]
  },
  {
   "cell_type": "markdown",
   "id": "rising-force",
   "metadata": {},
   "source": [
    "# Predictions"
   ]
  },
  {
   "cell_type": "code",
   "execution_count": 43,
   "id": "hired-singapore",
   "metadata": {},
   "outputs": [
    {
     "data": {
      "text/html": [
       "<div>\n",
       "<style scoped>\n",
       "    .dataframe tbody tr th:only-of-type {\n",
       "        vertical-align: middle;\n",
       "    }\n",
       "\n",
       "    .dataframe tbody tr th {\n",
       "        vertical-align: top;\n",
       "    }\n",
       "\n",
       "    .dataframe thead th {\n",
       "        text-align: right;\n",
       "    }\n",
       "</style>\n",
       "<table border=\"1\" class=\"dataframe\">\n",
       "  <thead>\n",
       "    <tr style=\"text-align: right;\">\n",
       "      <th></th>\n",
       "      <th>customerID</th>\n",
       "      <th>Churn</th>\n",
       "      <th>Prediction</th>\n",
       "      <th>Churning Probability</th>\n",
       "    </tr>\n",
       "  </thead>\n",
       "  <tbody>\n",
       "    <tr>\n",
       "      <th>4000</th>\n",
       "      <td>0420-HLGXF</td>\n",
       "      <td>0</td>\n",
       "      <td>1</td>\n",
       "      <td>0.665584</td>\n",
       "    </tr>\n",
       "    <tr>\n",
       "      <th>4001</th>\n",
       "      <td>7446-KQISO</td>\n",
       "      <td>0</td>\n",
       "      <td>0</td>\n",
       "      <td>0.080791</td>\n",
       "    </tr>\n",
       "    <tr>\n",
       "      <th>4002</th>\n",
       "      <td>9823-EALYC</td>\n",
       "      <td>0</td>\n",
       "      <td>0</td>\n",
       "      <td>0.005028</td>\n",
       "    </tr>\n",
       "    <tr>\n",
       "      <th>4003</th>\n",
       "      <td>0582-AVCLN</td>\n",
       "      <td>0</td>\n",
       "      <td>0</td>\n",
       "      <td>0.005930</td>\n",
       "    </tr>\n",
       "    <tr>\n",
       "      <th>4004</th>\n",
       "      <td>5803-NQJZO</td>\n",
       "      <td>0</td>\n",
       "      <td>0</td>\n",
       "      <td>0.004006</td>\n",
       "    </tr>\n",
       "    <tr>\n",
       "      <th>...</th>\n",
       "      <td>...</td>\n",
       "      <td>...</td>\n",
       "      <td>...</td>\n",
       "      <td>...</td>\n",
       "    </tr>\n",
       "    <tr>\n",
       "      <th>7038</th>\n",
       "      <td>6840-RESVB</td>\n",
       "      <td>0</td>\n",
       "      <td>0</td>\n",
       "      <td>0.101052</td>\n",
       "    </tr>\n",
       "    <tr>\n",
       "      <th>7039</th>\n",
       "      <td>2234-XADUH</td>\n",
       "      <td>0</td>\n",
       "      <td>0</td>\n",
       "      <td>0.153307</td>\n",
       "    </tr>\n",
       "    <tr>\n",
       "      <th>7040</th>\n",
       "      <td>4801-JZAZL</td>\n",
       "      <td>0</td>\n",
       "      <td>0</td>\n",
       "      <td>0.412816</td>\n",
       "    </tr>\n",
       "    <tr>\n",
       "      <th>7041</th>\n",
       "      <td>8361-LTMKD</td>\n",
       "      <td>1</td>\n",
       "      <td>1</td>\n",
       "      <td>0.710907</td>\n",
       "    </tr>\n",
       "    <tr>\n",
       "      <th>7042</th>\n",
       "      <td>3186-AJIEK</td>\n",
       "      <td>0</td>\n",
       "      <td>0</td>\n",
       "      <td>0.034655</td>\n",
       "    </tr>\n",
       "  </tbody>\n",
       "</table>\n",
       "<p>3043 rows × 4 columns</p>\n",
       "</div>"
      ],
      "text/plain": [
       "      customerID  Churn  Prediction  Churning Probability\n",
       "4000  0420-HLGXF      0           1              0.665584\n",
       "4001  7446-KQISO      0           0              0.080791\n",
       "4002  9823-EALYC      0           0              0.005028\n",
       "4003  0582-AVCLN      0           0              0.005930\n",
       "4004  5803-NQJZO      0           0              0.004006\n",
       "...          ...    ...         ...                   ...\n",
       "7038  6840-RESVB      0           0              0.101052\n",
       "7039  2234-XADUH      0           0              0.153307\n",
       "7040  4801-JZAZL      0           0              0.412816\n",
       "7041  8361-LTMKD      1           1              0.710907\n",
       "7042  3186-AJIEK      0           0              0.034655\n",
       "\n",
       "[3043 rows x 4 columns]"
      ]
     },
     "execution_count": 43,
     "metadata": {},
     "output_type": "execute_result"
    }
   ],
   "source": [
    "y_preds_probs = clf.predict_proba(X_test)\n",
    "\n",
    "result = pd.concat([ID[4000:], y_test], axis=1)\n",
    "result['Prediction'] = y_preds\n",
    "\n",
    "result['Churning Probability'] = y_preds_probs[:,1]\n",
    "\n",
    "result"
   ]
  },
  {
   "cell_type": "markdown",
   "id": "amber-testing",
   "metadata": {},
   "source": [
    "# Conclusion\n",
    "In the end, we have formulated/trained a model that will predict using given features, that whether a custpmer will churn or not, with the accuracy of 80.38%."
   ]
  },
  {
   "cell_type": "markdown",
   "id": "short-berlin",
   "metadata": {},
   "source": [
    "# Questions\n",
    "\n",
    "**Ques1.** Data cleaning including missing values, outliers and multi-collinearity?\n",
    "\n",
    "**Answer:** While doing data cleaning, I found some missing values in `TotalCharges` column. I thought there will be some relation between `MonthlyCharges` and `TotalCharges`, but that was not the case. So I handle these missing values, by filling them with median value, so that there will be less effect on the model, if there is some outliers in the `TotalCharges` column.\n",
    "\n",
    "After that, I boxplot all the numerical columns of the data to see if there is any outliers in them. But there were none.\n",
    "\n",
    "To check Multi-collinearity, firstly I encoded binary columns using LabelEncoder(). Then, I try to find the correlation between independent columns and the target column (`Churn`). And after that, i try to plot correlation matrix of all columns. To found out that `TotalCharges` is highly positively correlated with `tenure` and `MonthlyCharges`. After that, i also use VIF to find multi-correlated columns, there i found that `MonthlyCharges` and `TotalCharges` has VIF factor greater than 12."
   ]
  },
  {
   "cell_type": "markdown",
   "id": "shared-quantity",
   "metadata": {},
   "source": [
    "**Ques2.** Describe your predictive churn model in elaboration.\n",
    "\n",
    "**Answer:** Customer churn prediction models aim to detect customers with a high propensity to attrite(leave/loss). An accurate model permits to correctly target future churners in a retention marketing campaign, while a comprehensible and intuitive rule-set allows to identify the main drivers for customers to churn, and to develop an effective retention strategy in accordance with domain knowledge."
   ]
  },
  {
   "cell_type": "markdown",
   "id": "spoken-pakistan",
   "metadata": {},
   "source": [
    "**Ques3.** How did you select variables to be included in the model?\n",
    "\n",
    "**Answer:** For selection of variables or feature engieering, various methods can be applicable.\n",
    "1. We can use all predictors.\n",
    "2. Or we can drop multi-correlated columns prior to selecting important variables to reduce dimensionality of the model and to simplify it.\n",
    "3. Or we can forward or backward selection method, to select K best features using various metrics like chi2, mutual_info_classif, f_classif and many more.\n",
    "\n",
    "In this model, I formulated base models using whole set f predictors. After that choosing Logistic Regression, and using feature importance provided by this model. I selected first 30 features with high importance, or oe can choose 'k' features depending upon his/her choice or demand of the physical conditions/client. Or you can write a loop to find best 'k' to achieve maximum accuracy."
   ]
  },
  {
   "cell_type": "markdown",
   "id": "proper-antarctica",
   "metadata": {},
   "source": [
    "**Ques4.** Demonstrate the performance of the model by using best set of tools.\n",
    "\n",
    "**Answer:** That can be seen very clearly up in code."
   ]
  },
  {
   "cell_type": "markdown",
   "id": "golden-zambia",
   "metadata": {},
   "source": [
    "**Ques5.** What are the key factors that predict customer churn.\n",
    "\n",
    "**Answer:** In this model, 'tenure', 'MonthlyCharges', 'TotalCharges', 'InternetService_Fiber optic', 'Contract', 'InternetService', 'StreamingMovies' and many others, helps us to predict customer churning.\n",
    "\n",
    "To most of the extent, these factors logically makes sense and also plays a major role in predicting customer churning. But there can be a number of more reasons, that can be drawn from customer complaints like area connection problem etc, that are churning away customers."
   ]
  },
  {
   "cell_type": "markdown",
   "id": "willing-intersection",
   "metadata": {},
   "source": [
    "**Ques6.** Do these factors make sense? If yes, How? If not, How not?\n",
    "\n",
    "**Answer:** In this model, the dataset used is highly imbalanced and more skewed towards no churning of customer.\n",
    "Tenure, monthly charges and total charges, these factors clearly determine whether a given customer is gonna leave this company or not. Higher tenure or monthly charges mainly gonna make new customer churn away. Also remaining features are self explanatory. For example in this model, customer having Fiber Optic as their internet service are very less likely to churn away. Customer having two year contract are obviously most likely to stay for the contract period, so less likely to churn away."
   ]
  },
  {
   "cell_type": "markdown",
   "id": "mechanical-hughes",
   "metadata": {},
   "source": [
    "**Ques7.** What kind of offers should be avail to customers to encourage them to remain with\n",
    "company?\n",
    "\n",
    "**Answer.** We can provide a number of offers or deals, preventing customer to churn away.\n",
    "1. We can provide less monthly charges to attract customer.\n",
    "2. According to this model, customer having fiber optic as internet service are more satisfied. So we can start some discount schemes on this service.\n",
    "3. Price can be reduce on 2+ year subscription.\n",
    "4. One can also start lottery system to attract customers."
   ]
  }
 ],
 "metadata": {
  "kernelspec": {
   "display_name": "Python 3",
   "language": "python",
   "name": "python3"
  },
  "language_info": {
   "codemirror_mode": {
    "name": "ipython",
    "version": 3
   },
   "file_extension": ".py",
   "mimetype": "text/x-python",
   "name": "python",
   "nbconvert_exporter": "python",
   "pygments_lexer": "ipython3",
   "version": "3.9.2"
  }
 },
 "nbformat": 4,
 "nbformat_minor": 5
}
