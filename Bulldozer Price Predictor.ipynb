{
 "cells": [
  {
   "attachments": {},
   "cell_type": "markdown",
   "id": "activated-agent",
   "metadata": {},
   "source": [
    "# Blue Book for Bulldozers\n",
    "Predict the auction sale price for a piece of heavy equipment to create a \"blue book\" for bulldozers.\n",
    "\n",
    "### Problem Definition\n",
    "The goal of the problem is to predict the sale price of a particular piece of heavy equiment at auction based on it's usage, equipment type, and configuaration. \n",
    "\n",
    "### Evaluation\n",
    "The evaluation metric for this competition is the RMSLE (root mean squared log error) between the actual and predicted auction prices.\n",
    "\n",
    "**For more information, visit - https://www.kaggle.com/c/bluebook-for-bulldozers/overview**\n",
    "\n",
    "### Data\n",
    "* Train.cscv\n",
    "* Test.csv"
   ]
  },
  {
   "cell_type": "code",
   "execution_count": 1,
   "id": "closing-subcommittee",
   "metadata": {},
   "outputs": [],
   "source": [
    "# importing all necessary libraries\n",
    "\n",
    "# Regular EDA (Explanotary Data Analysis) and plotting libraries\n",
    "import numpy as np\n",
    "import pandas as pd\n",
    "import matplotlib.pyplot as plt\n",
    "import seaborn as sns\n",
    "\n",
    "# we want plots to be appear in notebook\n",
    "%matplotlib inline\n",
    "\n",
    "# Different models from Scikit-Learn\n",
    "from sklearn.ensemble import RandomForestRegressor\n",
    "\n",
    "# Necessary metrics for model evaluation\n",
    "from sklearn.model_selection import train_test_split, cross_val_score\n",
    "from sklearn.model_selection import RandomizedSearchCV, GridSearchCV\n",
    "from sklearn.metrics import mean_squared_log_error, mean_absolute_error, r2_score"
   ]
  },
  {
   "cell_type": "markdown",
   "id": "ecological-float",
   "metadata": {},
   "source": [
    "# Exploring Data"
   ]
  },
  {
   "cell_type": "code",
   "execution_count": 53,
   "id": "drawn-minnesota",
   "metadata": {},
   "outputs": [],
   "source": [
    "# importing training data\n",
    "raw_train_data = pd.read_csv(r'C:\\Users\\vio\\Desktop\\Bulldozer Price Prediction\\train.csv',\n",
    "                             low_memory=False)"
   ]
  },
  {
   "cell_type": "code",
   "execution_count": 54,
   "id": "determined-importance",
   "metadata": {
    "scrolled": true
   },
   "outputs": [
    {
     "data": {
      "text/html": [
       "<div>\n",
       "<style scoped>\n",
       "    .dataframe tbody tr th:only-of-type {\n",
       "        vertical-align: middle;\n",
       "    }\n",
       "\n",
       "    .dataframe tbody tr th {\n",
       "        vertical-align: top;\n",
       "    }\n",
       "\n",
       "    .dataframe thead th {\n",
       "        text-align: right;\n",
       "    }\n",
       "</style>\n",
       "<table border=\"1\" class=\"dataframe\">\n",
       "  <thead>\n",
       "    <tr style=\"text-align: right;\">\n",
       "      <th></th>\n",
       "      <th>SalesID</th>\n",
       "      <th>SalePrice</th>\n",
       "      <th>MachineID</th>\n",
       "      <th>ModelID</th>\n",
       "      <th>datasource</th>\n",
       "      <th>auctioneerID</th>\n",
       "      <th>YearMade</th>\n",
       "      <th>MachineHoursCurrentMeter</th>\n",
       "      <th>UsageBand</th>\n",
       "      <th>saledate</th>\n",
       "      <th>...</th>\n",
       "      <th>Undercarriage_Pad_Width</th>\n",
       "      <th>Stick_Length</th>\n",
       "      <th>Thumb</th>\n",
       "      <th>Pattern_Changer</th>\n",
       "      <th>Grouser_Type</th>\n",
       "      <th>Backhoe_Mounting</th>\n",
       "      <th>Blade_Type</th>\n",
       "      <th>Travel_Controls</th>\n",
       "      <th>Differential_Type</th>\n",
       "      <th>Steering_Controls</th>\n",
       "    </tr>\n",
       "  </thead>\n",
       "  <tbody>\n",
       "    <tr>\n",
       "      <th>0</th>\n",
       "      <td>1139246</td>\n",
       "      <td>66000</td>\n",
       "      <td>999089</td>\n",
       "      <td>3157</td>\n",
       "      <td>121</td>\n",
       "      <td>3.0</td>\n",
       "      <td>2004</td>\n",
       "      <td>68.0</td>\n",
       "      <td>Low</td>\n",
       "      <td>11/16/2006 0:00</td>\n",
       "      <td>...</td>\n",
       "      <td>NaN</td>\n",
       "      <td>NaN</td>\n",
       "      <td>NaN</td>\n",
       "      <td>NaN</td>\n",
       "      <td>NaN</td>\n",
       "      <td>NaN</td>\n",
       "      <td>NaN</td>\n",
       "      <td>NaN</td>\n",
       "      <td>Standard</td>\n",
       "      <td>Conventional</td>\n",
       "    </tr>\n",
       "    <tr>\n",
       "      <th>1</th>\n",
       "      <td>1139248</td>\n",
       "      <td>57000</td>\n",
       "      <td>117657</td>\n",
       "      <td>77</td>\n",
       "      <td>121</td>\n",
       "      <td>3.0</td>\n",
       "      <td>1996</td>\n",
       "      <td>4640.0</td>\n",
       "      <td>Low</td>\n",
       "      <td>3/26/2004 0:00</td>\n",
       "      <td>...</td>\n",
       "      <td>NaN</td>\n",
       "      <td>NaN</td>\n",
       "      <td>NaN</td>\n",
       "      <td>NaN</td>\n",
       "      <td>NaN</td>\n",
       "      <td>NaN</td>\n",
       "      <td>NaN</td>\n",
       "      <td>NaN</td>\n",
       "      <td>Standard</td>\n",
       "      <td>Conventional</td>\n",
       "    </tr>\n",
       "    <tr>\n",
       "      <th>2</th>\n",
       "      <td>1139249</td>\n",
       "      <td>10000</td>\n",
       "      <td>434808</td>\n",
       "      <td>7009</td>\n",
       "      <td>121</td>\n",
       "      <td>3.0</td>\n",
       "      <td>2001</td>\n",
       "      <td>2838.0</td>\n",
       "      <td>High</td>\n",
       "      <td>2/26/2004 0:00</td>\n",
       "      <td>...</td>\n",
       "      <td>NaN</td>\n",
       "      <td>NaN</td>\n",
       "      <td>NaN</td>\n",
       "      <td>NaN</td>\n",
       "      <td>NaN</td>\n",
       "      <td>NaN</td>\n",
       "      <td>NaN</td>\n",
       "      <td>NaN</td>\n",
       "      <td>NaN</td>\n",
       "      <td>NaN</td>\n",
       "    </tr>\n",
       "    <tr>\n",
       "      <th>3</th>\n",
       "      <td>1139251</td>\n",
       "      <td>38500</td>\n",
       "      <td>1026470</td>\n",
       "      <td>332</td>\n",
       "      <td>121</td>\n",
       "      <td>3.0</td>\n",
       "      <td>2001</td>\n",
       "      <td>3486.0</td>\n",
       "      <td>High</td>\n",
       "      <td>5/19/2011 0:00</td>\n",
       "      <td>...</td>\n",
       "      <td>NaN</td>\n",
       "      <td>NaN</td>\n",
       "      <td>NaN</td>\n",
       "      <td>NaN</td>\n",
       "      <td>NaN</td>\n",
       "      <td>NaN</td>\n",
       "      <td>NaN</td>\n",
       "      <td>NaN</td>\n",
       "      <td>NaN</td>\n",
       "      <td>NaN</td>\n",
       "    </tr>\n",
       "    <tr>\n",
       "      <th>4</th>\n",
       "      <td>1139253</td>\n",
       "      <td>11000</td>\n",
       "      <td>1057373</td>\n",
       "      <td>17311</td>\n",
       "      <td>121</td>\n",
       "      <td>3.0</td>\n",
       "      <td>2007</td>\n",
       "      <td>722.0</td>\n",
       "      <td>Medium</td>\n",
       "      <td>7/23/2009 0:00</td>\n",
       "      <td>...</td>\n",
       "      <td>NaN</td>\n",
       "      <td>NaN</td>\n",
       "      <td>NaN</td>\n",
       "      <td>NaN</td>\n",
       "      <td>NaN</td>\n",
       "      <td>NaN</td>\n",
       "      <td>NaN</td>\n",
       "      <td>NaN</td>\n",
       "      <td>NaN</td>\n",
       "      <td>NaN</td>\n",
       "    </tr>\n",
       "  </tbody>\n",
       "</table>\n",
       "<p>5 rows × 53 columns</p>\n",
       "</div>"
      ],
      "text/plain": [
       "   SalesID  SalePrice  MachineID  ModelID  datasource  auctioneerID  YearMade  \\\n",
       "0  1139246      66000     999089     3157         121           3.0      2004   \n",
       "1  1139248      57000     117657       77         121           3.0      1996   \n",
       "2  1139249      10000     434808     7009         121           3.0      2001   \n",
       "3  1139251      38500    1026470      332         121           3.0      2001   \n",
       "4  1139253      11000    1057373    17311         121           3.0      2007   \n",
       "\n",
       "   MachineHoursCurrentMeter UsageBand         saledate  ...  \\\n",
       "0                      68.0       Low  11/16/2006 0:00  ...   \n",
       "1                    4640.0       Low   3/26/2004 0:00  ...   \n",
       "2                    2838.0      High   2/26/2004 0:00  ...   \n",
       "3                    3486.0      High   5/19/2011 0:00  ...   \n",
       "4                     722.0    Medium   7/23/2009 0:00  ...   \n",
       "\n",
       "  Undercarriage_Pad_Width Stick_Length Thumb Pattern_Changer Grouser_Type  \\\n",
       "0                     NaN          NaN   NaN             NaN          NaN   \n",
       "1                     NaN          NaN   NaN             NaN          NaN   \n",
       "2                     NaN          NaN   NaN             NaN          NaN   \n",
       "3                     NaN          NaN   NaN             NaN          NaN   \n",
       "4                     NaN          NaN   NaN             NaN          NaN   \n",
       "\n",
       "  Backhoe_Mounting Blade_Type Travel_Controls Differential_Type  \\\n",
       "0              NaN        NaN             NaN          Standard   \n",
       "1              NaN        NaN             NaN          Standard   \n",
       "2              NaN        NaN             NaN               NaN   \n",
       "3              NaN        NaN             NaN               NaN   \n",
       "4              NaN        NaN             NaN               NaN   \n",
       "\n",
       "  Steering_Controls  \n",
       "0      Conventional  \n",
       "1      Conventional  \n",
       "2               NaN  \n",
       "3               NaN  \n",
       "4               NaN  \n",
       "\n",
       "[5 rows x 53 columns]"
      ]
     },
     "execution_count": 54,
     "metadata": {},
     "output_type": "execute_result"
    }
   ],
   "source": [
    "raw_train_data.head()"
   ]
  },
  {
   "cell_type": "code",
   "execution_count": 4,
   "id": "important-provider",
   "metadata": {},
   "outputs": [
    {
     "data": {
      "text/html": [
       "<div>\n",
       "<style scoped>\n",
       "    .dataframe tbody tr th:only-of-type {\n",
       "        vertical-align: middle;\n",
       "    }\n",
       "\n",
       "    .dataframe tbody tr th {\n",
       "        vertical-align: top;\n",
       "    }\n",
       "\n",
       "    .dataframe thead th {\n",
       "        text-align: right;\n",
       "    }\n",
       "</style>\n",
       "<table border=\"1\" class=\"dataframe\">\n",
       "  <thead>\n",
       "    <tr style=\"text-align: right;\">\n",
       "      <th></th>\n",
       "      <th>SalesID</th>\n",
       "      <th>SalePrice</th>\n",
       "      <th>MachineID</th>\n",
       "      <th>ModelID</th>\n",
       "      <th>datasource</th>\n",
       "      <th>auctioneerID</th>\n",
       "      <th>YearMade</th>\n",
       "      <th>MachineHoursCurrentMeter</th>\n",
       "    </tr>\n",
       "  </thead>\n",
       "  <tbody>\n",
       "    <tr>\n",
       "      <th>count</th>\n",
       "      <td>4.011250e+05</td>\n",
       "      <td>401125.000000</td>\n",
       "      <td>4.011250e+05</td>\n",
       "      <td>401125.000000</td>\n",
       "      <td>401125.000000</td>\n",
       "      <td>380989.000000</td>\n",
       "      <td>401125.000000</td>\n",
       "      <td>1.427650e+05</td>\n",
       "    </tr>\n",
       "    <tr>\n",
       "      <th>mean</th>\n",
       "      <td>1.919713e+06</td>\n",
       "      <td>31099.712848</td>\n",
       "      <td>1.217903e+06</td>\n",
       "      <td>6889.702980</td>\n",
       "      <td>134.665810</td>\n",
       "      <td>6.556040</td>\n",
       "      <td>1899.156901</td>\n",
       "      <td>3.457955e+03</td>\n",
       "    </tr>\n",
       "    <tr>\n",
       "      <th>std</th>\n",
       "      <td>9.090215e+05</td>\n",
       "      <td>23036.898502</td>\n",
       "      <td>4.409920e+05</td>\n",
       "      <td>6221.777842</td>\n",
       "      <td>8.962237</td>\n",
       "      <td>16.976779</td>\n",
       "      <td>291.797469</td>\n",
       "      <td>2.759026e+04</td>\n",
       "    </tr>\n",
       "    <tr>\n",
       "      <th>min</th>\n",
       "      <td>1.139246e+06</td>\n",
       "      <td>4750.000000</td>\n",
       "      <td>0.000000e+00</td>\n",
       "      <td>28.000000</td>\n",
       "      <td>121.000000</td>\n",
       "      <td>0.000000</td>\n",
       "      <td>1000.000000</td>\n",
       "      <td>0.000000e+00</td>\n",
       "    </tr>\n",
       "    <tr>\n",
       "      <th>25%</th>\n",
       "      <td>1.418371e+06</td>\n",
       "      <td>14500.000000</td>\n",
       "      <td>1.088697e+06</td>\n",
       "      <td>3259.000000</td>\n",
       "      <td>132.000000</td>\n",
       "      <td>1.000000</td>\n",
       "      <td>1985.000000</td>\n",
       "      <td>0.000000e+00</td>\n",
       "    </tr>\n",
       "    <tr>\n",
       "      <th>50%</th>\n",
       "      <td>1.639422e+06</td>\n",
       "      <td>24000.000000</td>\n",
       "      <td>1.279490e+06</td>\n",
       "      <td>4604.000000</td>\n",
       "      <td>132.000000</td>\n",
       "      <td>2.000000</td>\n",
       "      <td>1995.000000</td>\n",
       "      <td>0.000000e+00</td>\n",
       "    </tr>\n",
       "    <tr>\n",
       "      <th>75%</th>\n",
       "      <td>2.242707e+06</td>\n",
       "      <td>40000.000000</td>\n",
       "      <td>1.468067e+06</td>\n",
       "      <td>8724.000000</td>\n",
       "      <td>136.000000</td>\n",
       "      <td>4.000000</td>\n",
       "      <td>2000.000000</td>\n",
       "      <td>3.025000e+03</td>\n",
       "    </tr>\n",
       "    <tr>\n",
       "      <th>max</th>\n",
       "      <td>6.333342e+06</td>\n",
       "      <td>142000.000000</td>\n",
       "      <td>2.486330e+06</td>\n",
       "      <td>37198.000000</td>\n",
       "      <td>172.000000</td>\n",
       "      <td>99.000000</td>\n",
       "      <td>2013.000000</td>\n",
       "      <td>2.483300e+06</td>\n",
       "    </tr>\n",
       "  </tbody>\n",
       "</table>\n",
       "</div>"
      ],
      "text/plain": [
       "            SalesID      SalePrice     MachineID        ModelID  \\\n",
       "count  4.011250e+05  401125.000000  4.011250e+05  401125.000000   \n",
       "mean   1.919713e+06   31099.712848  1.217903e+06    6889.702980   \n",
       "std    9.090215e+05   23036.898502  4.409920e+05    6221.777842   \n",
       "min    1.139246e+06    4750.000000  0.000000e+00      28.000000   \n",
       "25%    1.418371e+06   14500.000000  1.088697e+06    3259.000000   \n",
       "50%    1.639422e+06   24000.000000  1.279490e+06    4604.000000   \n",
       "75%    2.242707e+06   40000.000000  1.468067e+06    8724.000000   \n",
       "max    6.333342e+06  142000.000000  2.486330e+06   37198.000000   \n",
       "\n",
       "          datasource   auctioneerID       YearMade  MachineHoursCurrentMeter  \n",
       "count  401125.000000  380989.000000  401125.000000              1.427650e+05  \n",
       "mean      134.665810       6.556040    1899.156901              3.457955e+03  \n",
       "std         8.962237      16.976779     291.797469              2.759026e+04  \n",
       "min       121.000000       0.000000    1000.000000              0.000000e+00  \n",
       "25%       132.000000       1.000000    1985.000000              0.000000e+00  \n",
       "50%       132.000000       2.000000    1995.000000              0.000000e+00  \n",
       "75%       136.000000       4.000000    2000.000000              3.025000e+03  \n",
       "max       172.000000      99.000000    2013.000000              2.483300e+06  "
      ]
     },
     "execution_count": 4,
     "metadata": {},
     "output_type": "execute_result"
    }
   ],
   "source": [
    "# some basic statistics\n",
    "raw_train_data.describe()"
   ]
  },
  {
   "cell_type": "code",
   "execution_count": 5,
   "id": "afraid-campaign",
   "metadata": {
    "scrolled": true
   },
   "outputs": [
    {
     "name": "stdout",
     "output_type": "stream",
     "text": [
      "<class 'pandas.core.frame.DataFrame'>\n",
      "RangeIndex: 401125 entries, 0 to 401124\n",
      "Data columns (total 53 columns):\n",
      " #   Column                    Non-Null Count   Dtype  \n",
      "---  ------                    --------------   -----  \n",
      " 0   SalesID                   401125 non-null  int64  \n",
      " 1   SalePrice                 401125 non-null  int64  \n",
      " 2   MachineID                 401125 non-null  int64  \n",
      " 3   ModelID                   401125 non-null  int64  \n",
      " 4   datasource                401125 non-null  int64  \n",
      " 5   auctioneerID              380989 non-null  float64\n",
      " 6   YearMade                  401125 non-null  int64  \n",
      " 7   MachineHoursCurrentMeter  142765 non-null  float64\n",
      " 8   UsageBand                 69639 non-null   object \n",
      " 9   saledate                  401125 non-null  object \n",
      " 10  fiModelDesc               401125 non-null  object \n",
      " 11  fiBaseModel               401125 non-null  object \n",
      " 12  fiSecondaryDesc           263934 non-null  object \n",
      " 13  fiModelSeries             56908 non-null   object \n",
      " 14  fiModelDescriptor         71919 non-null   object \n",
      " 15  ProductSize               190350 non-null  object \n",
      " 16  fiProductClassDesc        401125 non-null  object \n",
      " 17  state                     401125 non-null  object \n",
      " 18  ProductGroup              401125 non-null  object \n",
      " 19  ProductGroupDesc          401125 non-null  object \n",
      " 20  Drive_System              104361 non-null  object \n",
      " 21  Enclosure                 400800 non-null  object \n",
      " 22  Forks                     192077 non-null  object \n",
      " 23  Pad_Type                  79134 non-null   object \n",
      " 24  Ride_Control              148606 non-null  object \n",
      " 25  Stick                     79134 non-null   object \n",
      " 26  Transmission              183230 non-null  object \n",
      " 27  Turbocharged              79134 non-null   object \n",
      " 28  Blade_Extension           25219 non-null   object \n",
      " 29  Blade_Width               25219 non-null   object \n",
      " 30  Enclosure_Type            25219 non-null   object \n",
      " 31  Engine_Horsepower         25219 non-null   object \n",
      " 32  Hydraulics                320570 non-null  object \n",
      " 33  Pushblock                 25219 non-null   object \n",
      " 34  Ripper                    104137 non-null  object \n",
      " 35  Scarifier                 25230 non-null   object \n",
      " 36  Tip_Control               25219 non-null   object \n",
      " 37  Tire_Size                 94718 non-null   object \n",
      " 38  Coupler                   213952 non-null  object \n",
      " 39  Coupler_System            43458 non-null   object \n",
      " 40  Grouser_Tracks            43362 non-null   object \n",
      " 41  Hydraulics_Flow           43362 non-null   object \n",
      " 42  Track_Type                99153 non-null   object \n",
      " 43  Undercarriage_Pad_Width   99872 non-null   object \n",
      " 44  Stick_Length              99218 non-null   object \n",
      " 45  Thumb                     99288 non-null   object \n",
      " 46  Pattern_Changer           99218 non-null   object \n",
      " 47  Grouser_Type              99153 non-null   object \n",
      " 48  Backhoe_Mounting          78672 non-null   object \n",
      " 49  Blade_Type                79833 non-null   object \n",
      " 50  Travel_Controls           79834 non-null   object \n",
      " 51  Differential_Type         69411 non-null   object \n",
      " 52  Steering_Controls         69369 non-null   object \n",
      "dtypes: float64(2), int64(6), object(45)\n",
      "memory usage: 162.2+ MB\n"
     ]
    }
   ],
   "source": [
    "# checking data type of each attribute\n",
    "raw_train_data.info()"
   ]
  },
  {
   "cell_type": "code",
   "execution_count": 6,
   "id": "attractive-pilot",
   "metadata": {
    "scrolled": true
   },
   "outputs": [
    {
     "data": {
      "text/plain": [
       "SalesID                          0\n",
       "SalePrice                        0\n",
       "MachineID                        0\n",
       "ModelID                          0\n",
       "datasource                       0\n",
       "auctioneerID                 20136\n",
       "YearMade                         0\n",
       "MachineHoursCurrentMeter    258360\n",
       "UsageBand                   331486\n",
       "saledate                         0\n",
       "fiModelDesc                      0\n",
       "fiBaseModel                      0\n",
       "fiSecondaryDesc             137191\n",
       "fiModelSeries               344217\n",
       "fiModelDescriptor           329206\n",
       "ProductSize                 210775\n",
       "fiProductClassDesc               0\n",
       "state                            0\n",
       "ProductGroup                     0\n",
       "ProductGroupDesc                 0\n",
       "Drive_System                296764\n",
       "Enclosure                      325\n",
       "Forks                       209048\n",
       "Pad_Type                    321991\n",
       "Ride_Control                252519\n",
       "Stick                       321991\n",
       "Transmission                217895\n",
       "Turbocharged                321991\n",
       "Blade_Extension             375906\n",
       "Blade_Width                 375906\n",
       "Enclosure_Type              375906\n",
       "Engine_Horsepower           375906\n",
       "Hydraulics                   80555\n",
       "Pushblock                   375906\n",
       "Ripper                      296988\n",
       "Scarifier                   375895\n",
       "Tip_Control                 375906\n",
       "Tire_Size                   306407\n",
       "Coupler                     187173\n",
       "Coupler_System              357667\n",
       "Grouser_Tracks              357763\n",
       "Hydraulics_Flow             357763\n",
       "Track_Type                  301972\n",
       "Undercarriage_Pad_Width     301253\n",
       "Stick_Length                301907\n",
       "Thumb                       301837\n",
       "Pattern_Changer             301907\n",
       "Grouser_Type                301972\n",
       "Backhoe_Mounting            322453\n",
       "Blade_Type                  321292\n",
       "Travel_Controls             321291\n",
       "Differential_Type           331714\n",
       "Steering_Controls           331756\n",
       "dtype: int64"
      ]
     },
     "execution_count": 6,
     "metadata": {},
     "output_type": "execute_result"
    }
   ],
   "source": [
    "# checking if there is any null data\n",
    "raw_train_data.isna().sum()"
   ]
  },
  {
   "cell_type": "markdown",
   "id": "healthy-secretary",
   "metadata": {},
   "source": [
    "**Clearly, there are null values in the training data**."
   ]
  },
  {
   "cell_type": "markdown",
   "id": "indonesian-slovenia",
   "metadata": {},
   "source": [
    "### Firstly convert `saledate` feature to datetime format"
   ]
  },
  {
   "cell_type": "code",
   "execution_count": 55,
   "id": "appropriate-result",
   "metadata": {},
   "outputs": [],
   "source": [
    "raw_train_data['saledate'] = pd.to_datetime(raw_train_data['saledate'])"
   ]
  },
  {
   "cell_type": "code",
   "execution_count": 56,
   "id": "lasting-moore",
   "metadata": {},
   "outputs": [
    {
     "data": {
      "text/plain": [
       "dtype('<M8[ns]')"
      ]
     },
     "execution_count": 56,
     "metadata": {},
     "output_type": "execute_result"
    }
   ],
   "source": [
    "raw_train_data['saledate'].dtype"
   ]
  },
  {
   "cell_type": "code",
   "execution_count": 58,
   "id": "aggressive-clothing",
   "metadata": {},
   "outputs": [
    {
     "data": {
      "image/png": "[encoded data removed]",
      "text/plain": [
       "<Figure size 432x288 with 1 Axes>"
      ]
     },
     "metadata": {
      "needs_background": "light"
     },
     "output_type": "display_data"
    }
   ],
   "source": [
    "# sales by year first 1000 entries\n",
    "plt.scatter(raw_train_data['saledate'][:1000], raw_train_data['SalePrice'][:1000]);\n",
    "plt.xlabel('Sales Year')\n",
    "plt.ylabel('Quantity')\n",
    "plt.title('First 1000 entries in data')\n",
    "plt.show()"
   ]
  },
  {
   "cell_type": "markdown",
   "id": "stunning-receipt",
   "metadata": {},
   "source": [
    "### Lets sort our dataframe by `saledate` attribute"
   ]
  },
  {
   "cell_type": "code",
   "execution_count": 9,
   "id": "modified-place",
   "metadata": {},
   "outputs": [],
   "source": [
    "raw_train_data.sort_values(by='saledate', inplace=True)"
   ]
  },
  {
   "cell_type": "code",
   "execution_count": 10,
   "id": "decent-projector",
   "metadata": {},
   "outputs": [],
   "source": [
    "# now make copy of original dataframes\n",
    "train = raw_train_data.copy()"
   ]
  },
  {
   "cell_type": "code",
   "execution_count": 11,
   "id": "directed-assault",
   "metadata": {},
   "outputs": [],
   "source": [
    "# creating seperate year, month and day attributes for training data\n",
    "train['saleyear'] = train['saledate'].dt.year\n",
    "train['salemonth'] = train['saledate'].dt.month\n",
    "train['saleday'] = train['saledate'].dt.day"
   ]
  },
  {
   "cell_type": "markdown",
   "id": "offensive-serial",
   "metadata": {},
   "source": [
    "### Lets drop `saledate` and `SalesID` feature"
   ]
  },
  {
   "cell_type": "code",
   "execution_count": 12,
   "id": "sunrise-television",
   "metadata": {},
   "outputs": [],
   "source": [
    "train.drop(['saledate','SalesID'], axis=1, inplace=True)"
   ]
  },
  {
   "cell_type": "markdown",
   "id": "oriental-packaging",
   "metadata": {},
   "source": [
    "# Filling missing data (Imputing)"
   ]
  },
  {
   "cell_type": "code",
   "execution_count": 13,
   "id": "contrary-colorado",
   "metadata": {},
   "outputs": [],
   "source": [
    "# filling numeric values with median for train data\n",
    "for label, content in train.items():\n",
    "    if pd.api.types.is_numeric_dtype(content):\n",
    "        if pd.isna(content).sum():\n",
    "            train[label+'_is_missing'] = pd.isna(content)\n",
    "            train[label] = content.fillna(content.median())"
   ]
  },
  {
   "cell_type": "code",
   "execution_count": 14,
   "id": "earned-decimal",
   "metadata": {},
   "outputs": [],
   "source": [
    "# filling category values for train data\n",
    "for label, content in train.items():\n",
    "    if not pd.api.types.is_numeric_dtype(content):\n",
    "        train[label+'_is_missing'] = pd.isna(content)\n",
    "        # adding + 1 to categorical values as empty values it reflect as -1\n",
    "        train[label] = pd.Categorical(content).codes + 1       "
   ]
  },
  {
   "cell_type": "code",
   "execution_count": 15,
   "id": "ancient-drama",
   "metadata": {},
   "outputs": [
    {
     "data": {
      "text/plain": [
       "False"
      ]
     },
     "execution_count": 15,
     "metadata": {},
     "output_type": "execute_result"
    }
   ],
   "source": [
    "train.isna().sum().any()"
   ]
  },
  {
   "cell_type": "markdown",
   "id": "abandoned-portal",
   "metadata": {},
   "source": [
    "**No missing value in training dataset.**"
   ]
  },
  {
   "cell_type": "markdown",
   "id": "overhead-shore",
   "metadata": {},
   "source": [
    "# Modelling\n",
    "Let's build a machine learning model."
   ]
  },
  {
   "cell_type": "code",
   "execution_count": 16,
   "id": "utility-algorithm",
   "metadata": {
    "scrolled": true
   },
   "outputs": [
    {
     "data": {
      "text/html": [
       "<div>\n",
       "<style scoped>\n",
       "    .dataframe tbody tr th:only-of-type {\n",
       "        vertical-align: middle;\n",
       "    }\n",
       "\n",
       "    .dataframe tbody tr th {\n",
       "        vertical-align: top;\n",
       "    }\n",
       "\n",
       "    .dataframe thead th {\n",
       "        text-align: right;\n",
       "    }\n",
       "</style>\n",
       "<table border=\"1\" class=\"dataframe\">\n",
       "  <thead>\n",
       "    <tr style=\"text-align: right;\">\n",
       "      <th></th>\n",
       "      <th>SalePrice</th>\n",
       "      <th>MachineID</th>\n",
       "      <th>ModelID</th>\n",
       "      <th>datasource</th>\n",
       "      <th>auctioneerID</th>\n",
       "      <th>YearMade</th>\n",
       "      <th>MachineHoursCurrentMeter</th>\n",
       "      <th>UsageBand</th>\n",
       "      <th>fiModelDesc</th>\n",
       "      <th>fiBaseModel</th>\n",
       "      <th>...</th>\n",
       "      <th>Undercarriage_Pad_Width_is_missing</th>\n",
       "      <th>Stick_Length_is_missing</th>\n",
       "      <th>Thumb_is_missing</th>\n",
       "      <th>Pattern_Changer_is_missing</th>\n",
       "      <th>Grouser_Type_is_missing</th>\n",
       "      <th>Backhoe_Mounting_is_missing</th>\n",
       "      <th>Blade_Type_is_missing</th>\n",
       "      <th>Travel_Controls_is_missing</th>\n",
       "      <th>Differential_Type_is_missing</th>\n",
       "      <th>Steering_Controls_is_missing</th>\n",
       "    </tr>\n",
       "  </thead>\n",
       "  <tbody>\n",
       "    <tr>\n",
       "      <th>205615</th>\n",
       "      <td>9500</td>\n",
       "      <td>1126363</td>\n",
       "      <td>8434</td>\n",
       "      <td>132</td>\n",
       "      <td>18.0</td>\n",
       "      <td>1974</td>\n",
       "      <td>0.0</td>\n",
       "      <td>0</td>\n",
       "      <td>4537</td>\n",
       "      <td>1735</td>\n",
       "      <td>...</td>\n",
       "      <td>True</td>\n",
       "      <td>True</td>\n",
       "      <td>True</td>\n",
       "      <td>True</td>\n",
       "      <td>True</td>\n",
       "      <td>False</td>\n",
       "      <td>False</td>\n",
       "      <td>False</td>\n",
       "      <td>True</td>\n",
       "      <td>True</td>\n",
       "    </tr>\n",
       "    <tr>\n",
       "      <th>92803</th>\n",
       "      <td>24000</td>\n",
       "      <td>1169900</td>\n",
       "      <td>7110</td>\n",
       "      <td>132</td>\n",
       "      <td>99.0</td>\n",
       "      <td>1986</td>\n",
       "      <td>0.0</td>\n",
       "      <td>0</td>\n",
       "      <td>735</td>\n",
       "      <td>243</td>\n",
       "      <td>...</td>\n",
       "      <td>True</td>\n",
       "      <td>True</td>\n",
       "      <td>True</td>\n",
       "      <td>True</td>\n",
       "      <td>True</td>\n",
       "      <td>True</td>\n",
       "      <td>True</td>\n",
       "      <td>True</td>\n",
       "      <td>True</td>\n",
       "      <td>True</td>\n",
       "    </tr>\n",
       "    <tr>\n",
       "      <th>98346</th>\n",
       "      <td>35000</td>\n",
       "      <td>1262088</td>\n",
       "      <td>3357</td>\n",
       "      <td>132</td>\n",
       "      <td>99.0</td>\n",
       "      <td>1975</td>\n",
       "      <td>0.0</td>\n",
       "      <td>0</td>\n",
       "      <td>82</td>\n",
       "      <td>19</td>\n",
       "      <td>...</td>\n",
       "      <td>True</td>\n",
       "      <td>True</td>\n",
       "      <td>True</td>\n",
       "      <td>True</td>\n",
       "      <td>True</td>\n",
       "      <td>True</td>\n",
       "      <td>True</td>\n",
       "      <td>True</td>\n",
       "      <td>True</td>\n",
       "      <td>True</td>\n",
       "    </tr>\n",
       "    <tr>\n",
       "      <th>169297</th>\n",
       "      <td>19000</td>\n",
       "      <td>1433229</td>\n",
       "      <td>8247</td>\n",
       "      <td>132</td>\n",
       "      <td>99.0</td>\n",
       "      <td>1978</td>\n",
       "      <td>0.0</td>\n",
       "      <td>0</td>\n",
       "      <td>1158</td>\n",
       "      <td>349</td>\n",
       "      <td>...</td>\n",
       "      <td>True</td>\n",
       "      <td>True</td>\n",
       "      <td>True</td>\n",
       "      <td>True</td>\n",
       "      <td>True</td>\n",
       "      <td>True</td>\n",
       "      <td>True</td>\n",
       "      <td>True</td>\n",
       "      <td>False</td>\n",
       "      <td>False</td>\n",
       "    </tr>\n",
       "    <tr>\n",
       "      <th>274835</th>\n",
       "      <td>14000</td>\n",
       "      <td>1194089</td>\n",
       "      <td>10150</td>\n",
       "      <td>132</td>\n",
       "      <td>99.0</td>\n",
       "      <td>1980</td>\n",
       "      <td>0.0</td>\n",
       "      <td>0</td>\n",
       "      <td>1800</td>\n",
       "      <td>557</td>\n",
       "      <td>...</td>\n",
       "      <td>True</td>\n",
       "      <td>True</td>\n",
       "      <td>True</td>\n",
       "      <td>True</td>\n",
       "      <td>True</td>\n",
       "      <td>True</td>\n",
       "      <td>True</td>\n",
       "      <td>True</td>\n",
       "      <td>False</td>\n",
       "      <td>False</td>\n",
       "    </tr>\n",
       "  </tbody>\n",
       "</table>\n",
       "<p>5 rows × 100 columns</p>\n",
       "</div>"
      ],
      "text/plain": [
       "        SalePrice  MachineID  ModelID  datasource  auctioneerID  YearMade  \\\n",
       "205615       9500    1126363     8434         132          18.0      1974   \n",
       "92803       24000    1169900     7110         132          99.0      1986   \n",
       "98346       35000    1262088     3357         132          99.0      1975   \n",
       "169297      19000    1433229     8247         132          99.0      1978   \n",
       "274835      14000    1194089    10150         132          99.0      1980   \n",
       "\n",
       "        MachineHoursCurrentMeter  UsageBand  fiModelDesc  fiBaseModel  ...  \\\n",
       "205615                       0.0          0         4537         1735  ...   \n",
       "92803                        0.0          0          735          243  ...   \n",
       "98346                        0.0          0           82           19  ...   \n",
       "169297                       0.0          0         1158          349  ...   \n",
       "274835                       0.0          0         1800          557  ...   \n",
       "\n",
       "        Undercarriage_Pad_Width_is_missing  Stick_Length_is_missing  \\\n",
       "205615                                True                     True   \n",
       "92803                                 True                     True   \n",
       "98346                                 True                     True   \n",
       "169297                                True                     True   \n",
       "274835                                True                     True   \n",
       "\n",
       "        Thumb_is_missing  Pattern_Changer_is_missing  Grouser_Type_is_missing  \\\n",
       "205615              True                        True                     True   \n",
       "92803               True                        True                     True   \n",
       "98346               True                        True                     True   \n",
       "169297              True                        True                     True   \n",
       "274835              True                        True                     True   \n",
       "\n",
       "        Backhoe_Mounting_is_missing  Blade_Type_is_missing  \\\n",
       "205615                        False                  False   \n",
       "92803                          True                   True   \n",
       "98346                          True                   True   \n",
       "169297                         True                   True   \n",
       "274835                         True                   True   \n",
       "\n",
       "        Travel_Controls_is_missing  Differential_Type_is_missing  \\\n",
       "205615                       False                          True   \n",
       "92803                         True                          True   \n",
       "98346                         True                          True   \n",
       "169297                        True                         False   \n",
       "274835                        True                         False   \n",
       "\n",
       "        Steering_Controls_is_missing  \n",
       "205615                          True  \n",
       "92803                           True  \n",
       "98346                           True  \n",
       "169297                         False  \n",
       "274835                         False  \n",
       "\n",
       "[5 rows x 100 columns]"
      ]
     },
     "execution_count": 16,
     "metadata": {},
     "output_type": "execute_result"
    }
   ],
   "source": [
    "train.head()"
   ]
  },
  {
   "cell_type": "code",
   "execution_count": 17,
   "id": "absolute-proof",
   "metadata": {},
   "outputs": [],
   "source": [
    "# training target and features\n",
    "X = train.drop('SalePrice', axis=1)\n",
    "y = train['SalePrice']"
   ]
  },
  {
   "cell_type": "code",
   "execution_count": 18,
   "id": "romantic-sword",
   "metadata": {},
   "outputs": [],
   "source": [
    "# splitting our features and target into training and testing\n",
    "X_train, X_test, y_train, y_test = train_test_split(X, y, test_size=0.2, random_state=42)"
   ]
  },
  {
   "cell_type": "code",
   "execution_count": 19,
   "id": "married-sweden",
   "metadata": {},
   "outputs": [],
   "source": [
    "# baseline model instance\n",
    "model = RandomForestRegressor(n_jobs=-1,\n",
    "                              random_state=42)"
   ]
  },
  {
   "cell_type": "code",
   "execution_count": 20,
   "id": "prescription-algeria",
   "metadata": {},
   "outputs": [
    {
     "data": {
      "text/plain": [
       "RandomForestRegressor(n_jobs=-1, random_state=42)"
      ]
     },
     "execution_count": 20,
     "metadata": {},
     "output_type": "execute_result"
    }
   ],
   "source": [
    "# fitting and scoring our baseline model\n",
    "model.fit(X_train,y_train)"
   ]
  },
  {
   "cell_type": "markdown",
   "id": "noticed-sunday",
   "metadata": {},
   "source": [
    "## Evaluation our Training Dataset on Baseline Model"
   ]
  },
  {
   "cell_type": "code",
   "execution_count": 21,
   "id": "dried-apollo",
   "metadata": {},
   "outputs": [],
   "source": [
    "# we will define a function\n",
    "def model_scores(model):\n",
    "    '''\n",
    "    This function returns a dictionary containing various regression scores.\n",
    "    '''\n",
    "    train_preds = model.predict(X_train)\n",
    "    \n",
    "    score_card ={'Training RMSLE' : RMSLE(y_train, train_preds),\n",
    "                 'Training MAE' : mean_absolute_error(y_train, train_preds),\n",
    "                 'Training R2' : r2_score(y_train, train_preds)}\n",
    "    return score_card\n",
    "    \n",
    "    \n",
    "def RMSLE(y_true, y_pred):\n",
    "    '''\n",
    "    This function returns RMSLE (root mean squared log error) between the actual and predicted auction prices.\n",
    "    y_true - actual value\n",
    "    y_pred - predicted value\n",
    "    '''\n",
    "    return np.sqrt(mean_squared_log_error(y_true, y_pred))"
   ]
  },
  {
   "cell_type": "code",
   "execution_count": 22,
   "id": "married-directive",
   "metadata": {},
   "outputs": [
    {
     "name": "stdout",
     "output_type": "stream",
     "text": [
      "Training RMSLE : 0.0862\n",
      "Training MAE : 1622.4825\n",
      "Training R2 : 0.9869\n"
     ]
    }
   ],
   "source": [
    "for i,j in model_scores(model).items():\n",
    "    print(f'{i} : {j:0.4f}')"
   ]
  },
  {
   "cell_type": "markdown",
   "id": "cardiovascular-guarantee",
   "metadata": {},
   "source": [
    "# Hyperparameter Tuning of Model\n",
    "## Using `RandomizedSearchCV`"
   ]
  },
  {
   "cell_type": "code",
   "execution_count": 23,
   "id": "essential-trauma",
   "metadata": {},
   "outputs": [
    {
     "name": "stdout",
     "output_type": "stream",
     "text": [
      "Fitting 5 folds for each of 5 candidates, totalling 25 fits\n"
     ]
    },
    {
     "data": {
      "text/plain": [
       "RandomizedSearchCV(cv=5, estimator=RandomForestRegressor(), n_iter=5,\n",
       "                   param_distributions={'max_depth': [None, 3, 5, 10],\n",
       "                                        'max_features': [0.5, 1, 'sqrt',\n",
       "                                                         'auto'],\n",
       "                                        'max_samples': [10000],\n",
       "                                        'min_samples_leaf': array([ 1,  3,  5,  7,  9, 11, 13, 15, 17, 19]),\n",
       "                                        'min_samples_split': array([ 2,  4,  6,  8, 10, 12, 14, 16, 18]),\n",
       "                                        'n_estimators': array([10, 20, 30, 40, 50, 60, 70, 80, 90])},\n",
       "                   verbose=True)"
      ]
     },
     "execution_count": 23,
     "metadata": {},
     "output_type": "execute_result"
    }
   ],
   "source": [
    "# initiating new RandomForestRegressor instance\n",
    "model1 = RandomForestRegressor()\n",
    "\n",
    "# making a grid for RandomizedSearchCV\n",
    "rs_grid = {\"n_estimators\" : np.arange(10,100,10),\n",
    "           \"max_depth\" : [None, 3, 5, 10],\n",
    "           \"min_samples_split\" : np.arange(2, 20, 2),\n",
    "           \"min_samples_leaf\" : np.arange(1,20,2),\n",
    "           \"max_features\" : [0.5, 1, \"sqrt\", \"auto\"],\n",
    "           \"max_samples\" : [10000]}\n",
    "\n",
    "# creating model with 5-folds\n",
    "rs_model = RandomizedSearchCV(estimator = model1,\n",
    "                              param_distributions = rs_grid,\n",
    "                              n_iter = 5,\n",
    "                              cv = 5,\n",
    "                              verbose = True)\n",
    "\n",
    "# fitting rs_model\n",
    "rs_model.fit(X_train,y_train)"
   ]
  },
  {
   "cell_type": "code",
   "execution_count": 24,
   "id": "touched-steering",
   "metadata": {},
   "outputs": [
    {
     "data": {
      "text/plain": [
       "{'n_estimators': 20,\n",
       " 'min_samples_split': 14,\n",
       " 'min_samples_leaf': 19,\n",
       " 'max_samples': 10000,\n",
       " 'max_features': 0.5,\n",
       " 'max_depth': 5}"
      ]
     },
     "execution_count": 24,
     "metadata": {},
     "output_type": "execute_result"
    }
   ],
   "source": [
    "# best parameters\n",
    "rs_model.best_params_"
   ]
  },
  {
   "cell_type": "code",
   "execution_count": 25,
   "id": "tested-participant",
   "metadata": {},
   "outputs": [
    {
     "name": "stdout",
     "output_type": "stream",
     "text": [
      "Training RMSLE : 0.4301\n",
      "Training MAE : 9975.1851\n",
      "Training R2 : 0.6115\n"
     ]
    }
   ],
   "source": [
    "for i,j in model_scores(rs_model).items():\n",
    "    print(f'{i} : {j:0.4f}')"
   ]
  },
  {
   "cell_type": "markdown",
   "id": "hungarian-beach",
   "metadata": {},
   "source": [
    "# Import testing data \n",
    "Apply all formats which we have applied to our training dataets"
   ]
  },
  {
   "cell_type": "code",
   "execution_count": 37,
   "id": "billion-panic",
   "metadata": {},
   "outputs": [],
   "source": [
    "raw_test_data = pd.read_csv(r'C:\\Users\\vio\\Desktop\\Bulldozer Price Prediction\\test.csv',\n",
    "                             low_memory=False)\n",
    "raw_test_data['saledate'] = pd.to_datetime(raw_test_data['saledate'])\n",
    "raw_test_data.sort_values(by='saledate', inplace=True)\n",
    "test = raw_test_data.copy()"
   ]
  },
  {
   "cell_type": "code",
   "execution_count": 38,
   "id": "smoking-apollo",
   "metadata": {},
   "outputs": [],
   "source": [
    "# creating seperate year, month and day attributes for testing data\n",
    "test['saleyear'] = test['saledate'].dt.year\n",
    "test['salemonth'] = test['saledate'].dt.month\n",
    "test['saleday'] = test['saledate'].dt.day\n",
    "\n",
    "# SalesID array\n",
    "sales_id = test['SalesID']\n",
    "\n",
    "# dropping saledate column\n",
    "test.drop(columns=['saledate','SalesID'], inplace=True)"
   ]
  },
  {
   "cell_type": "code",
   "execution_count": 39,
   "id": "approved-characteristic",
   "metadata": {},
   "outputs": [],
   "source": [
    "# filling numeric values with median for test data\n",
    "for label, content in test.items():\n",
    "    if pd.api.types.is_numeric_dtype(content):\n",
    "        if pd.isna(content).sum():\n",
    "            test[label+'_is_missing'] = pd.isna(content)\n",
    "            test[label] = content.fillna(content.median())"
   ]
  },
  {
   "cell_type": "code",
   "execution_count": 40,
   "id": "noted-bruce",
   "metadata": {},
   "outputs": [],
   "source": [
    "# filling category values for test data\n",
    "for label, content in test.items():\n",
    "    if not pd.api.types.is_numeric_dtype(content):\n",
    "        test[label+'_is_missing'] = pd.isna(content)\n",
    "        # adding + 1 to categorical values as empty values it reflect as -1\n",
    "        test[label] = pd.Categorical(content).codes + 1"
   ]
  },
  {
   "cell_type": "code",
   "execution_count": 41,
   "id": "suited-department",
   "metadata": {},
   "outputs": [
    {
     "data": {
      "text/plain": [
       "False"
      ]
     },
     "execution_count": 41,
     "metadata": {},
     "output_type": "execute_result"
    }
   ],
   "source": [
    "test.isna().sum().any()"
   ]
  },
  {
   "cell_type": "markdown",
   "id": "peaceful-picture",
   "metadata": {},
   "source": [
    "## Now Predicting Price of bulldozers in test dataset"
   ]
  },
  {
   "cell_type": "code",
   "execution_count": 42,
   "id": "included-crawford",
   "metadata": {},
   "outputs": [
    {
     "data": {
      "text/plain": [
       "{'auctioneerID_is_missing'}"
      ]
     },
     "execution_count": 42,
     "metadata": {},
     "output_type": "execute_result"
    }
   ],
   "source": [
    "# first of all ake sure that all columns which are there in training dataset must be in testing dataset\n",
    "set(X_train.columns)-set(test.columns)"
   ]
  },
  {
   "cell_type": "code",
   "execution_count": 43,
   "id": "behind-option",
   "metadata": {},
   "outputs": [],
   "source": [
    "# since one column is missing\n",
    "test['auctioneerID_is_missing'] = False"
   ]
  },
  {
   "cell_type": "code",
   "execution_count": 44,
   "id": "signed-response",
   "metadata": {},
   "outputs": [],
   "source": [
    "# to make sure columns must be alligned like training dataset\n",
    "test = test[X_train.columns.tolist()]"
   ]
  },
  {
   "cell_type": "code",
   "execution_count": 45,
   "id": "crude-romantic",
   "metadata": {},
   "outputs": [],
   "source": [
    "# making baseline model prediction\n",
    "baseline_model_test_preds = model.predict(test)\n",
    "\n",
    "# making ideal model prediction\n",
    "im_test_preds = rs_model.predict(test)"
   ]
  },
  {
   "cell_type": "code",
   "execution_count": 46,
   "id": "about-angel",
   "metadata": {},
   "outputs": [],
   "source": [
    "# Storing results in a DataFrame\n",
    "result = pd.DataFrame()\n",
    "result['SalesID'] = sales_id\n",
    "result['Baseline Model Price Prediction'] = baseline_model_test_preds\n",
    "result['Ideal Model Price Prediction'] = im_test_preds"
   ]
  },
  {
   "cell_type": "code",
   "execution_count": 47,
   "id": "taken-metallic",
   "metadata": {},
   "outputs": [
    {
     "data": {
      "text/html": [
       "<div>\n",
       "<style scoped>\n",
       "    .dataframe tbody tr th:only-of-type {\n",
       "        vertical-align: middle;\n",
       "    }\n",
       "\n",
       "    .dataframe tbody tr th {\n",
       "        vertical-align: top;\n",
       "    }\n",
       "\n",
       "    .dataframe thead th {\n",
       "        text-align: right;\n",
       "    }\n",
       "</style>\n",
       "<table border=\"1\" class=\"dataframe\">\n",
       "  <thead>\n",
       "    <tr style=\"text-align: right;\">\n",
       "      <th></th>\n",
       "      <th>SalesID</th>\n",
       "      <th>Baseline Model Price Prediction</th>\n",
       "      <th>Ideal Model Price Prediction</th>\n",
       "    </tr>\n",
       "  </thead>\n",
       "  <tbody>\n",
       "    <tr>\n",
       "      <th>1408</th>\n",
       "      <td>4317459</td>\n",
       "      <td>11331.0</td>\n",
       "      <td>13262.103528</td>\n",
       "    </tr>\n",
       "    <tr>\n",
       "      <th>1023</th>\n",
       "      <td>4249784</td>\n",
       "      <td>16520.0</td>\n",
       "      <td>24553.670739</td>\n",
       "    </tr>\n",
       "    <tr>\n",
       "      <th>1728</th>\n",
       "      <td>4392603</td>\n",
       "      <td>22860.0</td>\n",
       "      <td>22287.887001</td>\n",
       "    </tr>\n",
       "    <tr>\n",
       "      <th>1167</th>\n",
       "      <td>4274831</td>\n",
       "      <td>27672.5</td>\n",
       "      <td>34837.020564</td>\n",
       "    </tr>\n",
       "    <tr>\n",
       "      <th>1594</th>\n",
       "      <td>4362801</td>\n",
       "      <td>11000.0</td>\n",
       "      <td>26140.996499</td>\n",
       "    </tr>\n",
       "    <tr>\n",
       "      <th>...</th>\n",
       "      <td>...</td>\n",
       "      <td>...</td>\n",
       "      <td>...</td>\n",
       "    </tr>\n",
       "    <tr>\n",
       "      <th>9941</th>\n",
       "      <td>6620191</td>\n",
       "      <td>6419.5</td>\n",
       "      <td>12270.936504</td>\n",
       "    </tr>\n",
       "    <tr>\n",
       "      <th>9936</th>\n",
       "      <td>6620142</td>\n",
       "      <td>13510.0</td>\n",
       "      <td>12507.497536</td>\n",
       "    </tr>\n",
       "    <tr>\n",
       "      <th>11620</th>\n",
       "      <td>6635116</td>\n",
       "      <td>43075.0</td>\n",
       "      <td>52132.900849</td>\n",
       "    </tr>\n",
       "    <tr>\n",
       "      <th>9995</th>\n",
       "      <td>6621460</td>\n",
       "      <td>48482.0</td>\n",
       "      <td>41980.429836</td>\n",
       "    </tr>\n",
       "    <tr>\n",
       "      <th>9803</th>\n",
       "      <td>6469532</td>\n",
       "      <td>35022.5</td>\n",
       "      <td>44543.595305</td>\n",
       "    </tr>\n",
       "  </tbody>\n",
       "</table>\n",
       "<p>12457 rows × 3 columns</p>\n",
       "</div>"
      ],
      "text/plain": [
       "       SalesID  Baseline Model Price Prediction  Ideal Model Price Prediction\n",
       "1408   4317459                          11331.0                  13262.103528\n",
       "1023   4249784                          16520.0                  24553.670739\n",
       "1728   4392603                          22860.0                  22287.887001\n",
       "1167   4274831                          27672.5                  34837.020564\n",
       "1594   4362801                          11000.0                  26140.996499\n",
       "...        ...                              ...                           ...\n",
       "9941   6620191                           6419.5                  12270.936504\n",
       "9936   6620142                          13510.0                  12507.497536\n",
       "11620  6635116                          43075.0                  52132.900849\n",
       "9995   6621460                          48482.0                  41980.429836\n",
       "9803   6469532                          35022.5                  44543.595305\n",
       "\n",
       "[12457 rows x 3 columns]"
      ]
     },
     "execution_count": 47,
     "metadata": {},
     "output_type": "execute_result"
    }
   ],
   "source": [
    "result"
   ]
  },
  {
   "cell_type": "markdown",
   "id": "cleared-people",
   "metadata": {},
   "source": [
    "# Feature Importance"
   ]
  },
  {
   "cell_type": "code",
   "execution_count": 48,
   "id": "lyric-italian",
   "metadata": {},
   "outputs": [
    {
     "data": {
      "text/html": [
       "<div>\n",
       "<style scoped>\n",
       "    .dataframe tbody tr th:only-of-type {\n",
       "        vertical-align: middle;\n",
       "    }\n",
       "\n",
       "    .dataframe tbody tr th {\n",
       "        vertical-align: top;\n",
       "    }\n",
       "\n",
       "    .dataframe thead th {\n",
       "        text-align: right;\n",
       "    }\n",
       "</style>\n",
       "<table border=\"1\" class=\"dataframe\">\n",
       "  <thead>\n",
       "    <tr style=\"text-align: right;\">\n",
       "      <th></th>\n",
       "      <th>importance</th>\n",
       "      <th>features</th>\n",
       "    </tr>\n",
       "  </thead>\n",
       "  <tbody>\n",
       "    <tr>\n",
       "      <th>4</th>\n",
       "      <td>0.200588</td>\n",
       "      <td>YearMade</td>\n",
       "    </tr>\n",
       "    <tr>\n",
       "      <th>12</th>\n",
       "      <td>0.164169</td>\n",
       "      <td>ProductSize</td>\n",
       "    </tr>\n",
       "    <tr>\n",
       "      <th>9</th>\n",
       "      <td>0.075036</td>\n",
       "      <td>fiSecondaryDesc</td>\n",
       "    </tr>\n",
       "    <tr>\n",
       "      <th>50</th>\n",
       "      <td>0.060122</td>\n",
       "      <td>saleyear</td>\n",
       "    </tr>\n",
       "    <tr>\n",
       "      <th>1</th>\n",
       "      <td>0.050400</td>\n",
       "      <td>ModelID</td>\n",
       "    </tr>\n",
       "    <tr>\n",
       "      <th>...</th>\n",
       "      <td>...</td>\n",
       "      <td>...</td>\n",
       "    </tr>\n",
       "    <tr>\n",
       "      <th>63</th>\n",
       "      <td>0.000000</td>\n",
       "      <td>state_is_missing</td>\n",
       "    </tr>\n",
       "    <tr>\n",
       "      <th>62</th>\n",
       "      <td>0.000000</td>\n",
       "      <td>fiProductClassDesc_is_missing</td>\n",
       "    </tr>\n",
       "    <tr>\n",
       "      <th>57</th>\n",
       "      <td>0.000000</td>\n",
       "      <td>fiBaseModel_is_missing</td>\n",
       "    </tr>\n",
       "    <tr>\n",
       "      <th>56</th>\n",
       "      <td>0.000000</td>\n",
       "      <td>fiModelDesc_is_missing</td>\n",
       "    </tr>\n",
       "    <tr>\n",
       "      <th>76</th>\n",
       "      <td>0.000000</td>\n",
       "      <td>Enclosure_Type_is_missing</td>\n",
       "    </tr>\n",
       "  </tbody>\n",
       "</table>\n",
       "<p>99 rows × 2 columns</p>\n",
       "</div>"
      ],
      "text/plain": [
       "    importance                       features\n",
       "4     0.200588                       YearMade\n",
       "12    0.164169                    ProductSize\n",
       "9     0.075036                fiSecondaryDesc\n",
       "50    0.060122                       saleyear\n",
       "1     0.050400                        ModelID\n",
       "..         ...                            ...\n",
       "63    0.000000               state_is_missing\n",
       "62    0.000000  fiProductClassDesc_is_missing\n",
       "57    0.000000         fiBaseModel_is_missing\n",
       "56    0.000000         fiModelDesc_is_missing\n",
       "76    0.000000      Enclosure_Type_is_missing\n",
       "\n",
       "[99 rows x 2 columns]"
      ]
     },
     "execution_count": 48,
     "metadata": {},
     "output_type": "execute_result"
    }
   ],
   "source": [
    "# creating model instance\n",
    "ideal_model = RandomForestRegressor(n_estimators = 20,\n",
    "                                    min_samples_split = 8,\n",
    "                                    min_samples_leaf = 7,\n",
    "                                    max_samples = 10000,\n",
    "                                    max_features = 0.5,\n",
    "                                    max_depth = None)\n",
    "\n",
    "# fittin model\n",
    "ideal_model.fit(X_train, y_train)\n",
    "\n",
    "# extracting feature importance of training set from ideal model\n",
    "coef_mat = pd.DataFrame()\n",
    "coef_mat['importance'] = ideal_model.feature_importances_\n",
    "coef_mat['features'] = X_train.columns\n",
    "coef_mat = coef_mat.sort_values(by='importance', ascending=False)\n",
    "coef_mat"
   ]
  },
  {
   "cell_type": "code",
   "execution_count": 49,
   "id": "political-trial",
   "metadata": {},
   "outputs": [
    {
     "data": {
      "image/png": "[encoded data removed]",
      "text/plain": [
       "<Figure size 720x360 with 1 Axes>"
      ]
     },
     "metadata": {
      "needs_background": "light"
     },
     "output_type": "display_data"
    }
   ],
   "source": [
    "fig, ax = plt.subplots(figsize=(10,5))\n",
    "ax.barh(coef_mat.features[:20], coef_mat.importance[:20]);\n",
    "plt.xticks(rotation=90)\n",
    "plt.ylabel('First 20 features sorted by dcreasing feature importance')\n",
    "plt.xlabel('Importance')\n",
    "plt.title('Feature Importance')\n",
    "plt.show()"
   ]
  }
 ],
 "metadata": {
  "kernelspec": {
   "display_name": "Python 3",
   "language": "python",
   "name": "python3"
  },
  "language_info": {
   "codemirror_mode": {
    "name": "ipython",
    "version": 3
   },
   "file_extension": ".py",
   "mimetype": "text/x-python",
   "name": "python",
   "nbconvert_exporter": "python",
   "pygments_lexer": "ipython3",
   "version": "3.9.2"
  }
 },
 "nbformat": 4,
 "nbformat_minor": 5
}
